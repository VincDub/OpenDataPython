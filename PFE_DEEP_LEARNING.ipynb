{
 "cells": [
  {
   "cell_type": "markdown",
   "metadata": {},
   "source": [
    "# Code source de l'algorithme de prédiction de gisements de matériaux bruts \n",
    "Dans le cadre de mon projet de fin d'études en architecture, soutenu en Juillet 2021"
   ]
  },
  {
   "cell_type": "markdown",
   "metadata": {},
   "source": [
    "## Chargement des données\n",
    "\n",
    "Les données d'entraînement proviennent du jeu de données agrégé du [Chapitre 3](CHAPITRE_3.ipynb)"
   ]
  },
  {
   "cell_type": "code",
   "execution_count": 2,
   "metadata": {},
   "outputs": [],
   "source": [
    "import geopandas as gpd\n",
    "import tensorflow as tf\n",
    "import autokeras as ak\n",
    "import numpy as np\n",
    "from PIL import Image\n",
    "\n",
    "DATA_AGG_PATH = os.path.join(\"_DATA_agg\",\"BATIMENTS_GRAND_PARIS.gpkg\")\n",
    "\n",
    "buildings = gpd.read_file(DATA_AGG_PATH)"
   ]
  },
  {
   "cell_type": "markdown",
   "metadata": {},
   "source": [
    "#### Chargement des images"
   ]
  },
  {
   "cell_type": "code",
   "execution_count": 3,
   "metadata": {},
   "outputs": [],
   "source": [
    "BUILDINGS_IMGS_DIR = os.path.join(\"_DATA_agg\",\"BATIMENTS_GRAND_PARIS_imgs\")\n",
    "\n",
    "def load_img(building_id):\n",
    "    path = os.path.join(BUILDINGS_IMGS_DIR,f\"{building_id}.png\")\n",
    "    if os.path.exists(path):\n",
    "        img = Image.open(path)\n",
    "        return np.asarray(img)\n",
    "    return None\n",
    "\n",
    "# Chargement des photographies et suppression des bâtiments sans photographie\n",
    "buildings[\"img\"] = buildings[\"id\"].apply(load_img)\n",
    "buildings = buildings.dropna()"
   ]
  },
  {
   "cell_type": "markdown",
   "metadata": {},
   "source": [
    "#### Calcul du volume de matériau structurel de façade"
   ]
  },
  {
   "cell_type": "code",
   "execution_count": 5,
   "metadata": {},
   "outputs": [],
   "source": [
    "def get_facade_material_volume(building):\n",
    "    # Calcul de la surface de façade\n",
    "    S_facade = building[\"surface_parois\"] - building[\"surface_vitrage\"]\n",
    "    # Calcul de l'épaisseur de la façade\n",
    "    ep = building[\"surface_emprise\"] - (building[\"surface_habitable\"]/building[\"nb_niveaux\"])\n",
    "    # Calcul du volume\n",
    "    building[\"volume_materiau_facade\"] = S_facade*ep\n",
    "    return building\n",
    "\n",
    "# Calcul du volume de matériaux de facade pour chaque bâtiment\n",
    "buildings = buildings.apply(get_facade_material_volume, axis=1)"
   ]
  },
  {
   "cell_type": "markdown",
   "metadata": {},
   "source": [
    "## Entraînement du modèle"
   ]
  },
  {
   "cell_type": "markdown",
   "metadata": {},
   "source": [
    "|Features à fournir|type|Features à prédire|type|\n",
    "|---|---|---|---|\n",
    "|img |*image*|materiau_facade|*numérique*|\n",
    "|surface_emprise |*numérique*|volume_materiau_facade|*catégorique*|\n",
    "|hauteur_mediane |*numérique*|||\n",
    "|typologie_bati_apur |*catégorique*|||\n",
    "|periode_construction| *catégorique*|||\n",
    "\n"
   ]
  },
  {
   "cell_type": "markdown",
   "metadata": {},
   "source": [
    "#### Sélection des features pour l'entraînement"
   ]
  },
  {
   "cell_type": "code",
   "execution_count": null,
   "metadata": {},
   "outputs": [],
   "source": [
    "\n",
    "# Sélection des données pour l'entraînement\n",
    "# X : photographie aérienne, surface d'emprise, hauteur, typologie du bâtiment et période de construction\n",
    "X_img = np.stack(buildings[\"img\"].to_list())\n",
    "X_features = buildings[[\"surface_emprise\",\"hauteur_mediane\",\"typologie_bati_apur\",\"periode_construction\"]].values\n",
    "\n",
    "# y : matériau de façade et son volume\n",
    "y_mat = buildings[\"materiau_facade\"].to_numpy()\n",
    "y_vol = buildings[\"volume_materiau_facade\"].to_numpy()\n",
    "\n",
    "# Initialisation du modèle\n",
    "amdl = ak.AutoModel(\n",
    "    inputs=[\n",
    "        ak.ImageInput(), # Photographie\n",
    "        ak.StructuredDataInput() # Données sur la bâtiment\n",
    "        ],\n",
    "    outputs=[\n",
    "        ak.ClassificationHead(loss='categorical_crossentropy', metrics=['accuracy']), # Matériau structurel de façade\n",
    "        ak.RegressionHead(metrics=['mae']) # Volume\n",
    "        ],\n",
    "    overwrite=True,\n",
    "    max_trials=5,\n",
    "    directory=os.path.join(\"_MDL\",\"mdl_prediction_volume_materiaux_facade_temp\")\n",
    "    )\n",
    "\n",
    "# Entraînement \n",
    "amdl.fit(\n",
    "    [X_img, X_features],\n",
    "    [y_mat, y_vol],\n",
    "    validation_split=0.15,\n",
    "    epochs=10\n",
    "    )\n",
    "\n",
    "# Sauvegarde du meilleur modèle\n",
    "final_mdl = amdl.export_model()\n",
    "final_mdl_path = os.path.join(\"_MDL\",\"mdl_prediction_volume_materiaux_facade\")\n",
    "final_mdl.save(final_mdl_path, save_format=\"tf\")"
   ]
  },
  {
   "cell_type": "markdown",
   "metadata": {},
   "source": [
    "## Prédiction sur l'existant"
   ]
  },
  {
   "cell_type": "markdown",
   "metadata": {},
   "source": [
    "Données récoltées manuellement sur site sur 210 bâtiments du quartier Ivry Port:\n",
    "\n",
    "* Photographie aérienne\n",
    "* Surface de l'emprise\n",
    "* Hauteur\n",
    "* Typologie\n",
    "* Période de construction\n",
    "\n"
   ]
  },
  {
   "cell_type": "code",
   "execution_count": 8,
   "metadata": {},
   "outputs": [],
   "source": [
    "import pandas as pd\n",
    "from tensorflow.keras.models import load_model\n",
    "\n",
    "EXISTING_BUILDINGS_DIR = os.path.join(\"_DATA\",\"PFE_EXISTANT\")\n",
    "EXISTING_BUILDINGS_DATA = os.path.join(EXISTING_BUILDINGS_DIR,\"existant.csv\")\n",
    "EXISTING_BUILDINGS_IMGS_DIR = os.path.join(EXISTING_BUILDINGS_DIR,\"existant_imgs\")\n",
    "MDL_PATH = os.path.join(\"_MDL\",\"mdl_prediction_volume_materiaux_facade\")\n",
    "\n",
    "ex_buildings = pd.read_csv(EXISTING_BUILDINGS_DATA)\n",
    "\n",
    "def load_img(building_id):\n",
    "    path = os.path.join(EXISTING_BUILDINGS_IMGS_DIR,f\"{building_id}.png\")\n",
    "    if os.path.exists(path):\n",
    "        img = Image.open(path)\n",
    "        return np.asarray(img)\n",
    "    return None\n",
    "\n",
    "# Chargement des photographies \n",
    "ex_buildings[\"img\"] = ex_buildings[\"id\"].apply(load_img)\n",
    "\n",
    "# Sélection des features pour la prédiction\n",
    "ex_X_img = np.stack(ex_buildings[\"img\"].to_list())\n",
    "ex_X_features = ex_buildings[[\"surface_emprise\",\"hauteur_mediane\",\"typologie_bati_apur\",\"periode_construction\"]].values"
   ]
  },
  {
   "cell_type": "code",
   "execution_count": 21,
   "metadata": {},
   "outputs": [
    {
     "name": "stdout",
     "output_type": "stream",
     "text": [
      "7/7 [==============================] - 3s 299ms/step\n"
     ]
    },
    {
     "data": {
      "text/html": [
       "<table border=\"1\" class=\"dataframe\">\n",
       "  <thead>\n",
       "    <tr style=\"text-align: right;\">\n",
       "      <th></th>\n",
       "      <th>img</th>\n",
       "      <th>materiau_facade</th>\n",
       "      <th>volume_materiau_facade</th>\n",
       "    </tr>\n",
       "  </thead>\n",
       "  <tbody>\n",
       "    <tr>\n",
       "      <th>193</th>\n",
       "      <td><img src=\"_DATA\\PFE_EXISTANT\\existant_imgs\\67859b23-d321-4b16-8676-ccd840d619ba.png\" width=\"60\"></td>\n",
       "      <td>Briques</td>\n",
       "      <td>253.513184</td>\n",
       "    </tr>\n",
       "    <tr>\n",
       "      <th>55</th>\n",
       "      <td><img src=\"_DATA\\PFE_EXISTANT\\existant_imgs\\6757ceaa-0bcc-4e66-bf4d-ab1a7fe3a891.png\" width=\"60\"></td>\n",
       "      <td>Briques</td>\n",
       "      <td>136.674667</td>\n",
       "    </tr>\n",
       "    <tr>\n",
       "      <th>73</th>\n",
       "      <td><img src=\"_DATA\\PFE_EXISTANT\\existant_imgs\\cef36233-f0ec-49b0-a8eb-39db0119937a.png\" width=\"60\"></td>\n",
       "      <td>Briques</td>\n",
       "      <td>1150.777710</td>\n",
       "    </tr>\n",
       "  </tbody>\n",
       "</table>"
      ],
      "text/plain": [
       "<IPython.core.display.HTML object>"
      ]
     },
     "execution_count": 21,
     "metadata": {},
     "output_type": "execute_result"
    }
   ],
   "source": [
    "# Chargement du modèle et prédiction sur l'existant\n",
    "mdl = load_model(MDL_PATH, custom_objects=ak.CUSTOM_OBJECTS)\n",
    "ex_y = mdl.predict([ex_X_img,ex_X_features])\n",
    "\n",
    "ex_buildings[\"materiau_facade\"] = ex_y[0].tolist()\n",
    "ex_buildings[\"volume_materiau_facade\"] = ex_y[1].tolist()\n",
    "\n",
    "# Rappel \n",
    "MATERIALS = {\n",
    "    1 : \"Pierre\",\n",
    "    2 : \"Meulière\",\n",
    "    3 : \"Béton\",\n",
    "    4 : \"Briques\",\n",
    "    5 : \"Aggloméré\",\n",
    "    6 : \"Bois\"\n",
    "}\n",
    "\n",
    "# Obtention de la catégorie correspondant au pourcentage le plus élevé (catégorie la plus \"probable\")\n",
    "ex_buildings[\"materiau_facade\"] = ex_buildings[\"materiau_facade\"].apply(lambda x: MATERIALS[x.index(max(x))+1])\n",
    "# Extraction du volume hors d'une liste\n",
    "ex_buildings[\"volume_materiau_facade\"] = ex_buildings[\"volume_materiau_facade\"].apply(lambda x: x[0])\n",
    "\n",
    "# Résultats\n",
    "from IPython.core.display import HTML\n",
    "\n",
    "sample_ex_buildings = ex_buildings.sample(3)\n",
    "sample_ex_buildings[\"img\"] = sample_ex_buildings[\"id\"].apply(lambda x: '<img src=\"' + os.path.join(EXISTING_BUILDINGS_IMGS_DIR, f\"{x}.png\") + '\" width=\"60\">')\n",
    "HTML(sample_ex_buildings[[\"img\", \"materiau_facade\", \"volume_materiau_facade\"]].to_html(escape=False))"
   ]
  }
 ],
 "metadata": {
  "kernelspec": {
   "display_name": "Python 3.9.0 ('pfe')",
   "language": "python",
   "name": "python3"
  },
  "language_info": {
   "codemirror_mode": {
    "name": "ipython",
    "version": 3
   },
   "file_extension": ".py",
   "mimetype": "text/x-python",
   "name": "python",
   "nbconvert_exporter": "python",
   "pygments_lexer": "ipython3",
   "version": "3.9.0"
  },
  "orig_nbformat": 4,
  "vscode": {
   "interpreter": {
    "hash": "61d4a47994626b3b0a55d482e3f18b8c4e54cb47256d215e06dda04f9cd0fad3"
   }
  }
 },
 "nbformat": 4,
 "nbformat_minor": 2
}
