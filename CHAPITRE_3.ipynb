{
 "cells": [
  {
   "cell_type": "markdown",
   "metadata": {},
   "source": [
    "# Code source du chapitre 3\n",
    "*mis à jour le 01.07.2022*"
   ]
  },
  {
   "cell_type": "markdown",
   "metadata": {},
   "source": [
    "## Téléchargement des données\n",
    "\n",
    "Données utilisées\n",
    "\n",
    "* [*APUR* - BESOIN THEORIQUE CHAUFFAGE ET TYPOLOGIE AU BATI](https://data-apur.opendata.arcgis.com/datasets/Apur::besoin-theorique-chauffage-et-typologie-au-bati/explore)\n",
    "* [*IGN* - BD TOPO (Ile de France)](https://geoservices.ign.fr/bdtopo#telechargementshpreg)\n",
    "* [*IGN* - BD ORTHO (Départements 75, 92, 93 et 94)](https://geoservices.ign.fr/bdortho#telechargement)\n"
   ]
  },
  {
   "cell_type": "code",
   "execution_count": 1,
   "metadata": {},
   "outputs": [
    {
     "name": "stdout",
     "output_type": "stream",
     "text": [
      "Téléchargement de https://opendata.arcgis.com/datasets/e1084cb1d0214fab8e998e55f4e1f806_0.geojson vers _DATA\\BD_APUR.geojson réussie\n",
      "Extraction de l'archive https://wxs.ign.fr/859x8t863h6a09o9o6fy4v60/telechargement/prepackage/BDTOPOV3-TOUSTHEMES-REGION-PACK_221$BDTOPO_3-0_TOUSTHEMES_SHP_LAMB93_R11_2022-03-15/file/BDTOPO_3-0_TOUSTHEMES_SHP_LAMB93_R11_2022-03-15.7z dans _DATA\\BD_TOPO réussie\n",
      "Extraction de l'archive https://wxs.ign.fr/enlf5fc2u11becs9p951mrzi/telechargement/prepackage/ORTHOHR-JP2_PACK_D075_2021$ORTHOHR_1-0_RVB-0M20_JP2-E080_LAMB93_D075_2021-01-01/file/ORTHOHR_1-0_RVB-0M20_JP2-E080_LAMB93_D075_2021-01-01.7z dans _DATA\\BD_ORTHO réussie\n",
      "Extraction de l'archive https://wxs.ign.fr/enlf5fc2u11becs9p951mrzi/telechargement/prepackage/ORTHOHR-JP2_PACK_D092_2021$ORTHOHR_1-0_RVB-0M20_JP2-E080_LAMB93_D092_2021-01-01/file/ORTHOHR_1-0_RVB-0M20_JP2-E080_LAMB93_D092_2021-01-01.7z dans _DATA\\BD_ORTHO réussie\n",
      "Extraction de l'archive https://wxs.ign.fr/enlf5fc2u11becs9p951mrzi/telechargement/prepackage/ORTHOHR-JP2_PACK_D093_2021$ORTHOHR_1-0_RVB-0M20_JP2-E080_LAMB93_D093_2021-01-01/file/ORTHOHR_1-0_RVB-0M20_JP2-E080_LAMB93_D093_2021-01-01.7z dans _DATA\\BD_ORTHO réussie\n",
      "Extraction de l'archive https://wxs.ign.fr/enlf5fc2u11becs9p951mrzi/telechargement/prepackage/ORTHOHR-JP2_PACK_D094_2021-01-01$ORTHOHR_1-0_RVB-0M20_JP2-E080_LAMB93_D094_2021-01-01/file/ORTHOHR_1-0_RVB-0M20_JP2-E080_LAMB93_D094_2021-01-01.7z dans _DATA\\BD_ORTHO réussie\n"
     ]
    }
   ],
   "source": [
    "from io import BytesIO\n",
    "from urllib.request import urlopen,urlretrieve\n",
    "from py7zr import SevenZipFile\n",
    "import os\n",
    "\n",
    "# Fonction de téléchargement et d'extraction des jeux de données\n",
    "def dl_and_extract_zip_from_url(url,out_dir):\n",
    "    if not os.path.exists(out_dir):\n",
    "        os.mkdir(out_dir)\n",
    "    with urlopen(url) as zipresp:\n",
    "        with SevenZipFile(BytesIO(zipresp.read())) as zfile:\n",
    "            zfile.extractall(out_dir)\n",
    "    print(f\"Extraction de l'archive {url} dans {out_dir} réussie\")\n",
    "\n",
    "def dl_geojson_from_url(url, out_file):\n",
    "    resp = urlretrieve(url,out_file)\n",
    "    print(f\"Téléchargement de {url} vers {out_file} réussi\")\n",
    "\n",
    "BD_APUR_URL = \"https://opendata.arcgis.com/datasets/e1084cb1d0214fab8e998e55f4e1f806_0.geojson\"\n",
    "BD_TOPO_URL = \"https://wxs.ign.fr/859x8t863h6a09o9o6fy4v60/telechargement/prepackage/BDTOPOV3-TOUSTHEMES-REGION-PACK_221$bd_topo_3-0_TOUSTHEMES_SHP_LAMB93_R11_2022-03-15/file/BDTOPO_3-0_TOUSTHEMES_SHP_LAMB93_R11_2022-03-15.7z\"\n",
    "BD_ORTHO_URLS = [\n",
    "    \"https://wxs.ign.fr/enlf5fc2u11becs9p951mrzi/telechargement/prepackage/ORTHOHR-JP2_PACK_D075_2021$ORTHOHR_1-0_RVB-0M20_JP2-E080_LAMB93_D075_2021-01-01/file/ORTHOHR_1-0_RVB-0M20_JP2-E080_LAMB93_D075_2021-01-01.7z\",\n",
    "    \"https://wxs.ign.fr/enlf5fc2u11becs9p951mrzi/telechargement/prepackage/ORTHOHR-JP2_PACK_D092_2021$ORTHOHR_1-0_RVB-0M20_JP2-E080_LAMB93_D092_2021-01-01/file/ORTHOHR_1-0_RVB-0M20_JP2-E080_LAMB93_D092_2021-01-01.7z\",\n",
    "    \"https://wxs.ign.fr/enlf5fc2u11becs9p951mrzi/telechargement/prepackage/ORTHOHR-JP2_PACK_D093_2021$ORTHOHR_1-0_RVB-0M20_JP2-E080_LAMB93_D093_2021-01-01/file/ORTHOHR_1-0_RVB-0M20_JP2-E080_LAMB93_D093_2021-01-01.7z\",\n",
    "    \"https://wxs.ign.fr/enlf5fc2u11becs9p951mrzi/telechargement/prepackage/ORTHOHR-JP2_PACK_D094_2021-01-01$ORTHOHR_1-0_RVB-0M20_JP2-E080_LAMB93_D094_2021-01-01/file/ORTHOHR_1-0_RVB-0M20_JP2-E080_LAMB93_D094_2021-01-01.7z\",\n",
    "]\n",
    "\n",
    "dl_geojson_from_url(BD_APUR_URL,os.path.join(\"_DATA\",\"BD_APUR.geojson\"))\n",
    "dl_and_extract_zip_from_url(BD_TOPO_URL,os.path.join(\"_DATA\",\"BD_TOPO\"))\n",
    "for zip_url in BD_ORTHO_URLS:\n",
    "    dl_and_extract_zip_from_url(zip_url,os.path.join(\"_DATA\",\"BD_ORTHO\"))"
   ]
  },
  {
   "cell_type": "markdown",
   "metadata": {},
   "source": [
    "## Pré-traitement des données\n",
    "\n",
    "#### Imports nécessaires"
   ]
  },
  {
   "cell_type": "code",
   "execution_count": 1,
   "metadata": {},
   "outputs": [
    {
     "data": {
      "text/plain": [
       "True"
      ]
     },
     "execution_count": 1,
     "metadata": {},
     "output_type": "execute_result"
    }
   ],
   "source": [
    "import geopandas as gpd\n",
    "from shapely import speedups\n",
    "speedups.enabled"
   ]
  },
  {
   "cell_type": "markdown",
   "metadata": {},
   "source": [
    "#### *APUR* - BESOIN THEORIQUE CHAUFFAGE ET TYPOLOGIE AU BATI\n",
    "\n",
    "Chargement et lecture"
   ]
  },
  {
   "cell_type": "code",
   "execution_count": 2,
   "metadata": {},
   "outputs": [
    {
     "data": {
      "text/html": [
       "<div>\n",
       "<style scoped>\n",
       "    .dataframe tbody tr th:only-of-type {\n",
       "        vertical-align: middle;\n",
       "    }\n",
       "\n",
       "    .dataframe tbody tr th {\n",
       "        vertical-align: top;\n",
       "    }\n",
       "\n",
       "    .dataframe thead th {\n",
       "        text-align: right;\n",
       "    }\n",
       "</style>\n",
       "<table border=\"1\" class=\"dataframe\">\n",
       "  <thead>\n",
       "    <tr style=\"text-align: right;\">\n",
       "      <th></th>\n",
       "      <th>OBJECTID</th>\n",
       "      <th>N_SQ_EB</th>\n",
       "      <th>C_CAINSEE</th>\n",
       "      <th>C_PERCONST_APUR</th>\n",
       "      <th>C_PERCONST_INSEE</th>\n",
       "      <th>B_DALLE</th>\n",
       "      <th>DUR</th>\n",
       "      <th>DUR_CODE</th>\n",
       "      <th>H_MEDIANE</th>\n",
       "      <th>N_SQ_PC</th>\n",
       "      <th>...</th>\n",
       "      <th>GV</th>\n",
       "      <th>BV</th>\n",
       "      <th>N_INERTIE</th>\n",
       "      <th>BESOINS_AVT_INTER</th>\n",
       "      <th>INTERMITTENCE</th>\n",
       "      <th>BESOINS_POST_INTER</th>\n",
       "      <th>RATIO_BESOINS_POST_INTER</th>\n",
       "      <th>Shape_Length</th>\n",
       "      <th>Shape_Area</th>\n",
       "      <th>geometry</th>\n",
       "    </tr>\n",
       "  </thead>\n",
       "  <tbody>\n",
       "    <tr>\n",
       "      <th>0</th>\n",
       "      <td>1</td>\n",
       "      <td>750070992.0</td>\n",
       "      <td>75119.0</td>\n",
       "      <td>3</td>\n",
       "      <td>1.0</td>\n",
       "      <td>N</td>\n",
       "      <td>None</td>\n",
       "      <td>None</td>\n",
       "      <td>8.879</td>\n",
       "      <td>750069354.0</td>\n",
       "      <td>...</td>\n",
       "      <td>632.440186</td>\n",
       "      <td>597.702680</td>\n",
       "      <td>3.6</td>\n",
       "      <td>37655.268848</td>\n",
       "      <td>0.741555</td>\n",
       "      <td>27923.458071</td>\n",
       "      <td>321.773863</td>\n",
       "      <td>32.451442</td>\n",
       "      <td>34.495045</td>\n",
       "      <td>POLYGON ((654091.003 6866170.532, 654088.744 6...</td>\n",
       "    </tr>\n",
       "    <tr>\n",
       "      <th>1</th>\n",
       "      <td>2</td>\n",
       "      <td>750016084.0</td>\n",
       "      <td>75116.0</td>\n",
       "      <td>3</td>\n",
       "      <td>1.0</td>\n",
       "      <td>N</td>\n",
       "      <td>None</td>\n",
       "      <td>None</td>\n",
       "      <td>20.671</td>\n",
       "      <td>750049707.0</td>\n",
       "      <td>...</td>\n",
       "      <td>3788.432068</td>\n",
       "      <td>3412.838303</td>\n",
       "      <td>3.6</td>\n",
       "      <td>215008.813075</td>\n",
       "      <td>0.889257</td>\n",
       "      <td>191198.111495</td>\n",
       "      <td>194.231236</td>\n",
       "      <td>58.024597</td>\n",
       "      <td>168.075870</td>\n",
       "      <td>POLYGON ((646688.801 6862086.526, 646690.934 6...</td>\n",
       "    </tr>\n",
       "    <tr>\n",
       "      <th>2</th>\n",
       "      <td>3</td>\n",
       "      <td>750069338.0</td>\n",
       "      <td>75114.0</td>\n",
       "      <td>1</td>\n",
       "      <td>1.0</td>\n",
       "      <td>N</td>\n",
       "      <td>None</td>\n",
       "      <td>None</td>\n",
       "      <td>3.297</td>\n",
       "      <td>750037736.0</td>\n",
       "      <td>...</td>\n",
       "      <td>924.635739</td>\n",
       "      <td>864.387801</td>\n",
       "      <td>3.6</td>\n",
       "      <td>54456.431450</td>\n",
       "      <td>0.595141</td>\n",
       "      <td>32409.230536</td>\n",
       "      <td>203.480189</td>\n",
       "      <td>64.185734</td>\n",
       "      <td>170.502193</td>\n",
       "      <td>POLYGON ((650449.151 6859688.261, 650443.451 6...</td>\n",
       "    </tr>\n",
       "    <tr>\n",
       "      <th>3</th>\n",
       "      <td>4</td>\n",
       "      <td>750093751.0</td>\n",
       "      <td>75117.0</td>\n",
       "      <td>3</td>\n",
       "      <td>1.0</td>\n",
       "      <td>N</td>\n",
       "      <td>None</td>\n",
       "      <td>None</td>\n",
       "      <td>18.792</td>\n",
       "      <td>750055762.0</td>\n",
       "      <td>...</td>\n",
       "      <td>2964.148488</td>\n",
       "      <td>2549.677502</td>\n",
       "      <td>3.6</td>\n",
       "      <td>160629.682606</td>\n",
       "      <td>0.901857</td>\n",
       "      <td>144864.969869</td>\n",
       "      <td>130.107949</td>\n",
       "      <td>83.576085</td>\n",
       "      <td>209.116777</td>\n",
       "      <td>POLYGON ((650449.828 6865554.929, 650442.522 6...</td>\n",
       "    </tr>\n",
       "    <tr>\n",
       "      <th>4</th>\n",
       "      <td>5</td>\n",
       "      <td>750042312.0</td>\n",
       "      <td>75115.0</td>\n",
       "      <td>11</td>\n",
       "      <td>6.0</td>\n",
       "      <td>N</td>\n",
       "      <td>None</td>\n",
       "      <td>None</td>\n",
       "      <td>17.011</td>\n",
       "      <td>750044851.0</td>\n",
       "      <td>...</td>\n",
       "      <td>2643.346746</td>\n",
       "      <td>2149.725254</td>\n",
       "      <td>2.1</td>\n",
       "      <td>135432.690996</td>\n",
       "      <td>0.913685</td>\n",
       "      <td>123742.781515</td>\n",
       "      <td>80.427171</td>\n",
       "      <td>79.313684</td>\n",
       "      <td>319.219614</td>\n",
       "      <td>POLYGON ((648436.487 6861150.939, 648430.955 6...</td>\n",
       "    </tr>\n",
       "  </tbody>\n",
       "</table>\n",
       "<p>5 rows × 39 columns</p>\n",
       "</div>"
      ],
      "text/plain": [
       "   OBJECTID      N_SQ_EB  C_CAINSEE  C_PERCONST_APUR  C_PERCONST_INSEE  \\\n",
       "0         1  750070992.0    75119.0                3               1.0   \n",
       "1         2  750016084.0    75116.0                3               1.0   \n",
       "2         3  750069338.0    75114.0                1               1.0   \n",
       "3         4  750093751.0    75117.0                3               1.0   \n",
       "4         5  750042312.0    75115.0               11               6.0   \n",
       "\n",
       "  B_DALLE   DUR DUR_CODE  H_MEDIANE      N_SQ_PC  ...           GV  \\\n",
       "0       N  None     None      8.879  750069354.0  ...   632.440186   \n",
       "1       N  None     None     20.671  750049707.0  ...  3788.432068   \n",
       "2       N  None     None      3.297  750037736.0  ...   924.635739   \n",
       "3       N  None     None     18.792  750055762.0  ...  2964.148488   \n",
       "4       N  None     None     17.011  750044851.0  ...  2643.346746   \n",
       "\n",
       "            BV  N_INERTIE  BESOINS_AVT_INTER  INTERMITTENCE  \\\n",
       "0   597.702680        3.6       37655.268848       0.741555   \n",
       "1  3412.838303        3.6      215008.813075       0.889257   \n",
       "2   864.387801        3.6       54456.431450       0.595141   \n",
       "3  2549.677502        3.6      160629.682606       0.901857   \n",
       "4  2149.725254        2.1      135432.690996       0.913685   \n",
       "\n",
       "   BESOINS_POST_INTER  RATIO_BESOINS_POST_INTER  Shape_Length  Shape_Area  \\\n",
       "0        27923.458071                321.773863     32.451442   34.495045   \n",
       "1       191198.111495                194.231236     58.024597  168.075870   \n",
       "2        32409.230536                203.480189     64.185734  170.502193   \n",
       "3       144864.969869                130.107949     83.576085  209.116777   \n",
       "4       123742.781515                 80.427171     79.313684  319.219614   \n",
       "\n",
       "                                            geometry  \n",
       "0  POLYGON ((654091.003 6866170.532, 654088.744 6...  \n",
       "1  POLYGON ((646688.801 6862086.526, 646690.934 6...  \n",
       "2  POLYGON ((650449.151 6859688.261, 650443.451 6...  \n",
       "3  POLYGON ((650449.828 6865554.929, 650442.522 6...  \n",
       "4  POLYGON ((648436.487 6861150.939, 648430.955 6...  \n",
       "\n",
       "[5 rows x 39 columns]"
      ]
     },
     "execution_count": 2,
     "metadata": {},
     "output_type": "execute_result"
    }
   ],
   "source": [
    "BD_APUR_DATA = os.path.join(\"_DATA\",\"BD_APUR.geojson\")\n",
    "bd_apur = gpd.read_file(BD_APUR_DATA)\n",
    "bd_apur_origin_length = len(bd_apur)\n",
    "# Expression des coordonnées en Lambert 93\n",
    "bd_apur.crs = 4326\n",
    "bd_apur = bd_apur.to_crs(2154)\n",
    "\n",
    "bd_apur.head(5)"
   ]
  },
  {
   "cell_type": "markdown",
   "metadata": {},
   "source": [
    "Encodage"
   ]
  },
  {
   "cell_type": "code",
   "execution_count": 3,
   "metadata": {},
   "outputs": [],
   "source": [
    "# Encodage de la destination du bâtiment\n",
    "NATURE = {\n",
    "    \"logement individuel\" : 0,\n",
    "    \"logement collectif\" : 1,\n",
    "    \"bâtiment mixte\" : 2,\n",
    "    \"batiment tertiaire ou industriel\" : 3,\n",
    "    \"non déterminée\" : 4 \n",
    "    }\n",
    "# Application de la table d'encodage\n",
    "bd_apur[\"Typologie_apur\"] = bd_apur[\"Typologie_apur\"].map(NATURE)\n",
    "bd_apur[\"Typologie_apur\"] = bd_apur[\"Typologie_apur\"].astype('Int64')"
   ]
  },
  {
   "cell_type": "markdown",
   "metadata": {},
   "source": [
    "Sélection des champs utiles"
   ]
  },
  {
   "cell_type": "code",
   "execution_count": 4,
   "metadata": {},
   "outputs": [
    {
     "name": "stdout",
     "output_type": "stream",
     "text": [
      "Nombre de bâtiments :\n",
      "\tavant traitement : 1113344\n",
      "\taprès traitement : 901225\n"
     ]
    },
    {
     "data": {
      "text/html": [
       "<div>\n",
       "<style scoped>\n",
       "    .dataframe tbody tr th:only-of-type {\n",
       "        vertical-align: middle;\n",
       "    }\n",
       "\n",
       "    .dataframe tbody tr th {\n",
       "        vertical-align: top;\n",
       "    }\n",
       "\n",
       "    .dataframe thead th {\n",
       "        text-align: right;\n",
       "    }\n",
       "</style>\n",
       "<table border=\"1\" class=\"dataframe\">\n",
       "  <thead>\n",
       "    <tr style=\"text-align: right;\">\n",
       "      <th></th>\n",
       "      <th>geometry</th>\n",
       "      <th>surface_vitrage</th>\n",
       "      <th>surface_habitable</th>\n",
       "      <th>periode_construction</th>\n",
       "      <th>surface_emprise</th>\n",
       "      <th>surface_parois</th>\n",
       "      <th>nb_niveaux</th>\n",
       "      <th>hauteur_mediane</th>\n",
       "      <th>typologie_bati_apur</th>\n",
       "    </tr>\n",
       "  </thead>\n",
       "  <tbody>\n",
       "    <tr>\n",
       "      <th>0</th>\n",
       "      <td>POLYGON ((654091.003 6866170.532, 654088.744 6...</td>\n",
       "      <td>55.867366</td>\n",
       "      <td>86.779758</td>\n",
       "      <td>3</td>\n",
       "      <td>34.495045</td>\n",
       "      <td>288.136350</td>\n",
       "      <td>2.959667</td>\n",
       "      <td>8.879</td>\n",
       "      <td>1</td>\n",
       "    </tr>\n",
       "    <tr>\n",
       "      <th>1</th>\n",
       "      <td>POLYGON ((646688.801 6862086.526, 646690.934 6...</td>\n",
       "      <td>323.876300</td>\n",
       "      <td>984.383953</td>\n",
       "      <td>3</td>\n",
       "      <td>168.075870</td>\n",
       "      <td>1199.426441</td>\n",
       "      <td>6.890333</td>\n",
       "      <td>20.671</td>\n",
       "      <td>1</td>\n",
       "    </tr>\n",
       "    <tr>\n",
       "      <th>2</th>\n",
       "      <td>POLYGON ((650449.151 6859688.261, 650443.451 6...</td>\n",
       "      <td>41.745613</td>\n",
       "      <td>159.274624</td>\n",
       "      <td>1</td>\n",
       "      <td>170.502193</td>\n",
       "      <td>211.620366</td>\n",
       "      <td>1.099000</td>\n",
       "      <td>3.297</td>\n",
       "      <td>1</td>\n",
       "    </tr>\n",
       "    <tr>\n",
       "      <th>3</th>\n",
       "      <td>POLYGON ((650449.828 6865554.929, 650442.522 6...</td>\n",
       "      <td>207.610361</td>\n",
       "      <td>1113.421365</td>\n",
       "      <td>3</td>\n",
       "      <td>209.116777</td>\n",
       "      <td>1570.561787</td>\n",
       "      <td>6.264000</td>\n",
       "      <td>18.792</td>\n",
       "      <td>1</td>\n",
       "    </tr>\n",
       "    <tr>\n",
       "      <th>4</th>\n",
       "      <td>POLYGON ((648436.487 6861150.939, 648430.955 6...</td>\n",
       "      <td>426.507516</td>\n",
       "      <td>1538.569376</td>\n",
       "      <td>11</td>\n",
       "      <td>319.219614</td>\n",
       "      <td>1349.205078</td>\n",
       "      <td>5.670333</td>\n",
       "      <td>17.011</td>\n",
       "      <td>2</td>\n",
       "    </tr>\n",
       "  </tbody>\n",
       "</table>\n",
       "</div>"
      ],
      "text/plain": [
       "                                            geometry  surface_vitrage  \\\n",
       "0  POLYGON ((654091.003 6866170.532, 654088.744 6...        55.867366   \n",
       "1  POLYGON ((646688.801 6862086.526, 646690.934 6...       323.876300   \n",
       "2  POLYGON ((650449.151 6859688.261, 650443.451 6...        41.745613   \n",
       "3  POLYGON ((650449.828 6865554.929, 650442.522 6...       207.610361   \n",
       "4  POLYGON ((648436.487 6861150.939, 648430.955 6...       426.507516   \n",
       "\n",
       "   surface_habitable  periode_construction  surface_emprise  surface_parois  \\\n",
       "0          86.779758                     3        34.495045      288.136350   \n",
       "1         984.383953                     3       168.075870     1199.426441   \n",
       "2         159.274624                     1       170.502193      211.620366   \n",
       "3        1113.421365                     3       209.116777     1570.561787   \n",
       "4        1538.569376                    11       319.219614     1349.205078   \n",
       "\n",
       "   nb_niveaux  hauteur_mediane  typologie_bati_apur  \n",
       "0    2.959667            8.879                    1  \n",
       "1    6.890333           20.671                    1  \n",
       "2    1.099000            3.297                    1  \n",
       "3    6.264000           18.792                    1  \n",
       "4    5.670333           17.011                    2  "
      ]
     },
     "execution_count": 4,
     "metadata": {},
     "output_type": "execute_result"
    }
   ],
   "source": [
    "# Filtrage des bâtiments avec un nombre de niveaux supérieur à 0\n",
    "# et une période de construction n'étant pas indéfinie (code : 99)\n",
    "bd_apur = bd_apur[(bd_apur[\"NB_NIV\"] > 0) & (bd_apur[\"C_PERCONST_APUR\"] != 99)]\n",
    "\n",
    "# Table de rennomage des champs utiles\n",
    "APUR_FIELDS = {\n",
    "    \"SURFACE_VITRAGE\" : \"surface_vitrage\",\n",
    "    \"SURFACE_HABITABLE\" : \"surface_habitable\",\n",
    "    \"C_PERCONST_APUR\" : \"periode_construction\",\n",
    "    \"Shape_Area\" : \"surface_emprise\",\n",
    "    \"SURFACE_PAROI_TOT\" : \"surface_parois\",\n",
    "    \"NB_NIV\" : \"nb_niveaux\",\n",
    "    \"H_MEDIANE\" : \"hauteur_mediane\",\n",
    "    \"Typologie_apur\" : \"typologie_bati_apur\"\n",
    "}\n",
    "# Sélection et renommage des champs utiles\n",
    "bd_apur = bd_apur[[\"geometry\"] + list(APUR_FIELDS.keys())]\n",
    "bd_apur = bd_apur.rename(columns=APUR_FIELDS)\n",
    "# Suppression des bâtiments avec au moins un des champs manquants\n",
    "bd_apur = bd_apur.dropna()\n",
    "\n",
    "print(f\"Nombre de bâtiments :\\n\\tavant traitement : {bd_apur_origin_length}\\n\\taprès traitement : {len(bd_apur)}\")\n",
    "bd_apur.head(5)"
   ]
  },
  {
   "cell_type": "markdown",
   "metadata": {},
   "source": [
    "#### *IGN* - BD TOPO (Ile de France)\n",
    "\n",
    "Chargement et lecture"
   ]
  },
  {
   "cell_type": "code",
   "execution_count": 5,
   "metadata": {},
   "outputs": [
    {
     "data": {
      "text/html": [
       "<div>\n",
       "<style scoped>\n",
       "    .dataframe tbody tr th:only-of-type {\n",
       "        vertical-align: middle;\n",
       "    }\n",
       "\n",
       "    .dataframe tbody tr th {\n",
       "        vertical-align: top;\n",
       "    }\n",
       "\n",
       "    .dataframe thead th {\n",
       "        text-align: right;\n",
       "    }\n",
       "</style>\n",
       "<table border=\"1\" class=\"dataframe\">\n",
       "  <thead>\n",
       "    <tr style=\"text-align: right;\">\n",
       "      <th></th>\n",
       "      <th>ID</th>\n",
       "      <th>NATURE</th>\n",
       "      <th>USAGE1</th>\n",
       "      <th>USAGE2</th>\n",
       "      <th>LEGER</th>\n",
       "      <th>ETAT</th>\n",
       "      <th>DATE_CREAT</th>\n",
       "      <th>DATE_MAJ</th>\n",
       "      <th>DATE_APP</th>\n",
       "      <th>DATE_CONF</th>\n",
       "      <th>...</th>\n",
       "      <th>MAT_MURS</th>\n",
       "      <th>MAT_TOITS</th>\n",
       "      <th>HAUTEUR</th>\n",
       "      <th>Z_MIN_SOL</th>\n",
       "      <th>Z_MIN_TOIT</th>\n",
       "      <th>Z_MAX_TOIT</th>\n",
       "      <th>Z_MAX_SOL</th>\n",
       "      <th>ORIGIN_BAT</th>\n",
       "      <th>APP_FF</th>\n",
       "      <th>geometry</th>\n",
       "    </tr>\n",
       "  </thead>\n",
       "  <tbody>\n",
       "    <tr>\n",
       "      <th>0</th>\n",
       "      <td>BATIMENT0000000338465630</td>\n",
       "      <td>Industriel, agricole ou commercial</td>\n",
       "      <td>Agricole</td>\n",
       "      <td>None</td>\n",
       "      <td>Non</td>\n",
       "      <td>En service</td>\n",
       "      <td>2014-10-02 18:42:00</td>\n",
       "      <td>2017-02-27 12:32:38</td>\n",
       "      <td>None</td>\n",
       "      <td>None</td>\n",
       "      <td>...</td>\n",
       "      <td>None</td>\n",
       "      <td>None</td>\n",
       "      <td>4.9</td>\n",
       "      <td>93.7</td>\n",
       "      <td>98.6</td>\n",
       "      <td>NaN</td>\n",
       "      <td>NaN</td>\n",
       "      <td>Cadastre</td>\n",
       "      <td>None</td>\n",
       "      <td>POLYGON Z ((682392.800 6839868.300 98.600, 682...</td>\n",
       "    </tr>\n",
       "    <tr>\n",
       "      <th>1</th>\n",
       "      <td>BATIMENT0000000338462974</td>\n",
       "      <td>Industriel, agricole ou commercial</td>\n",
       "      <td>Indifférencié</td>\n",
       "      <td>None</td>\n",
       "      <td>Non</td>\n",
       "      <td>En service</td>\n",
       "      <td>2014-10-02 18:40:15</td>\n",
       "      <td>2017-02-27 12:32:38</td>\n",
       "      <td>None</td>\n",
       "      <td>None</td>\n",
       "      <td>...</td>\n",
       "      <td>None</td>\n",
       "      <td>None</td>\n",
       "      <td>2.2</td>\n",
       "      <td>99.0</td>\n",
       "      <td>101.2</td>\n",
       "      <td>NaN</td>\n",
       "      <td>NaN</td>\n",
       "      <td>Cadastre</td>\n",
       "      <td>None</td>\n",
       "      <td>POLYGON Z ((683189.200 6840307.900 101.200, 68...</td>\n",
       "    </tr>\n",
       "    <tr>\n",
       "      <th>2</th>\n",
       "      <td>BATIMENT0000000338462973</td>\n",
       "      <td>Industriel, agricole ou commercial</td>\n",
       "      <td>Indifférencié</td>\n",
       "      <td>None</td>\n",
       "      <td>Oui</td>\n",
       "      <td>En service</td>\n",
       "      <td>2014-10-02 18:40:15</td>\n",
       "      <td>2017-02-27 12:32:38</td>\n",
       "      <td>None</td>\n",
       "      <td>None</td>\n",
       "      <td>...</td>\n",
       "      <td>None</td>\n",
       "      <td>None</td>\n",
       "      <td>2.5</td>\n",
       "      <td>99.0</td>\n",
       "      <td>101.5</td>\n",
       "      <td>NaN</td>\n",
       "      <td>NaN</td>\n",
       "      <td>Cadastre</td>\n",
       "      <td>None</td>\n",
       "      <td>POLYGON Z ((683198.500 6840313.300 101.500, 68...</td>\n",
       "    </tr>\n",
       "    <tr>\n",
       "      <th>3</th>\n",
       "      <td>BATIMENT0000000338462982</td>\n",
       "      <td>Industriel, agricole ou commercial</td>\n",
       "      <td>Indifférencié</td>\n",
       "      <td>None</td>\n",
       "      <td>Oui</td>\n",
       "      <td>En service</td>\n",
       "      <td>2014-10-02 18:40:15</td>\n",
       "      <td>2017-02-27 12:32:38</td>\n",
       "      <td>None</td>\n",
       "      <td>None</td>\n",
       "      <td>...</td>\n",
       "      <td>None</td>\n",
       "      <td>None</td>\n",
       "      <td>4.4</td>\n",
       "      <td>97.3</td>\n",
       "      <td>101.7</td>\n",
       "      <td>NaN</td>\n",
       "      <td>NaN</td>\n",
       "      <td>Cadastre</td>\n",
       "      <td>None</td>\n",
       "      <td>POLYGON Z ((683178.000 6840290.600 101.700, 68...</td>\n",
       "    </tr>\n",
       "    <tr>\n",
       "      <th>4</th>\n",
       "      <td>BATIMENT0000000338462983</td>\n",
       "      <td>Industriel, agricole ou commercial</td>\n",
       "      <td>Indifférencié</td>\n",
       "      <td>None</td>\n",
       "      <td>Non</td>\n",
       "      <td>En service</td>\n",
       "      <td>2014-10-02 18:40:15</td>\n",
       "      <td>2017-02-27 12:32:38</td>\n",
       "      <td>None</td>\n",
       "      <td>None</td>\n",
       "      <td>...</td>\n",
       "      <td>None</td>\n",
       "      <td>None</td>\n",
       "      <td>4.6</td>\n",
       "      <td>97.1</td>\n",
       "      <td>101.7</td>\n",
       "      <td>NaN</td>\n",
       "      <td>NaN</td>\n",
       "      <td>Cadastre</td>\n",
       "      <td>None</td>\n",
       "      <td>POLYGON Z ((683184.200 6840286.400 101.700, 68...</td>\n",
       "    </tr>\n",
       "  </tbody>\n",
       "</table>\n",
       "<p>5 rows × 26 columns</p>\n",
       "</div>"
      ],
      "text/plain": [
       "                         ID                              NATURE  \\\n",
       "0  BATIMENT0000000338465630  Industriel, agricole ou commercial   \n",
       "1  BATIMENT0000000338462974  Industriel, agricole ou commercial   \n",
       "2  BATIMENT0000000338462973  Industriel, agricole ou commercial   \n",
       "3  BATIMENT0000000338462982  Industriel, agricole ou commercial   \n",
       "4  BATIMENT0000000338462983  Industriel, agricole ou commercial   \n",
       "\n",
       "          USAGE1 USAGE2 LEGER        ETAT           DATE_CREAT  \\\n",
       "0       Agricole   None   Non  En service  2014-10-02 18:42:00   \n",
       "1  Indifférencié   None   Non  En service  2014-10-02 18:40:15   \n",
       "2  Indifférencié   None   Oui  En service  2014-10-02 18:40:15   \n",
       "3  Indifférencié   None   Oui  En service  2014-10-02 18:40:15   \n",
       "4  Indifférencié   None   Non  En service  2014-10-02 18:40:15   \n",
       "\n",
       "              DATE_MAJ DATE_APP DATE_CONF  ... MAT_MURS MAT_TOITS  HAUTEUR  \\\n",
       "0  2017-02-27 12:32:38     None      None  ...     None      None      4.9   \n",
       "1  2017-02-27 12:32:38     None      None  ...     None      None      2.2   \n",
       "2  2017-02-27 12:32:38     None      None  ...     None      None      2.5   \n",
       "3  2017-02-27 12:32:38     None      None  ...     None      None      4.4   \n",
       "4  2017-02-27 12:32:38     None      None  ...     None      None      4.6   \n",
       "\n",
       "   Z_MIN_SOL  Z_MIN_TOIT  Z_MAX_TOIT Z_MAX_SOL ORIGIN_BAT  APP_FF  \\\n",
       "0       93.7        98.6         NaN       NaN   Cadastre    None   \n",
       "1       99.0       101.2         NaN       NaN   Cadastre    None   \n",
       "2       99.0       101.5         NaN       NaN   Cadastre    None   \n",
       "3       97.3       101.7         NaN       NaN   Cadastre    None   \n",
       "4       97.1       101.7         NaN       NaN   Cadastre    None   \n",
       "\n",
       "                                            geometry  \n",
       "0  POLYGON Z ((682392.800 6839868.300 98.600, 682...  \n",
       "1  POLYGON Z ((683189.200 6840307.900 101.200, 68...  \n",
       "2  POLYGON Z ((683198.500 6840313.300 101.500, 68...  \n",
       "3  POLYGON Z ((683178.000 6840290.600 101.700, 68...  \n",
       "4  POLYGON Z ((683184.200 6840286.400 101.700, 68...  \n",
       "\n",
       "[5 rows x 26 columns]"
      ]
     },
     "execution_count": 5,
     "metadata": {},
     "output_type": "execute_result"
    }
   ],
   "source": [
    "BD_TOPO_DATA = os.path.join(\n",
    "    \"_DATA\",\n",
    "    \"BD_TOPO\",\n",
    "    \"BDTOPO_3-0_TOUSTHEMES_SHP_LAMB93_R11_2022-03-15\", \n",
    "    \"BDTOPO\", \n",
    "    \"1_DONNEES_LIVRAISON_2022-03-00084\", \n",
    "    \"BDT_3-0_SHP_LAMB93_R11-ED2022-03-15\", \n",
    "    \"BATI\", \n",
    "    \"BATIMENT.shp\"\n",
    "    )\n",
    "\n",
    "bd_topo = gpd.read_file(BD_TOPO_DATA)\n",
    "bd_topo_origin_length = len(bd_topo)\n",
    "bd_topo.head(5)"
   ]
  },
  {
   "cell_type": "markdown",
   "metadata": {},
   "source": [
    "Encodage"
   ]
  },
  {
   "cell_type": "code",
   "execution_count": 6,
   "metadata": {},
   "outputs": [],
   "source": [
    "# Encondage des valeurs de matériaux\n",
    "# D'après la table de correspondance des métadonnées de la BD TOPO\n",
    "WALL_MATERIAL = {\n",
    "    1 : [\"1\",\"01\",\"10\",\"11\",\"19\",\"91\"], # Pierre\n",
    "    2 : [\"2\",\"02\",\"12\",\"20\",\"21\",\"22\",\"29\",\"92\"], # Meulière\n",
    "    3 : [\"3\",\"03\",\"13\",\"23\",\"30\",\"31\",\"32\",\"33\",\"34\",\"36\",\"39\",\"43\",\"63\",\"93\"], # Béton\n",
    "    4 : [\"4\",\"04\",\"14\",\"24\",\"40\",\"41\",\"42\",\"44\",\"49\",\"94\"], # Briques\n",
    "    5 : [\"5\",\"05\",\"15\",\"25\",\"35\",\"45\",\"50\",\"51\",\"52\",\"53\",\"54\",\"55\",\"56\",\"59\",\"65\",\"95\"], # Aggloméré\n",
    "    6 : [\"6\",\"06\",\"16\",\"26\",\"46\",\"60\",\"61\",\"62\",\"64\",\"66\",\"96\"] # Bois\n",
    "}\n",
    "\n",
    "ROOF_MATERIAL = {\n",
    "    1 : [\"1\",\"01\",\"10\",\"11\",\"13\",\"19\",\"31\",\"91\"], # Tuiles\n",
    "    2 : [\"2\",\"02\",\"12\",\"20\",\"21\",\"22\",\"23\",\"24\",\"29\",\"32\",\"42\",\"92\"], # Ardoises\n",
    "    3 : [\"3\",\"03\",\"30\",\"33\",\"39\",\"93\"], # Zinc/Aluminium/Tôle\n",
    "    4 : [\"4\",\"04\",\"14\",\"34\",\"40\",\"41\",\"43\",\"44\",\"49\",\"94\"] # Béton\n",
    "}\n",
    "\n",
    "def encode_materials(mat, D):\n",
    "    for key,values in D.items():\n",
    "        if mat in values: \n",
    "            return key\n",
    "    return 0\n",
    "\n",
    "bd_topo[\"MAT_MURS\"] = bd_topo[\"MAT_MURS\"].apply(encode_materials, D=WALL_MATERIAL)\n",
    "bd_topo[\"MAT_MURS\"] = bd_topo[\"MAT_MURS\"].astype('Int64')\n",
    "bd_topo[\"MAT_TOITS\"] = bd_topo[\"MAT_TOITS\"].apply(encode_materials, D=ROOF_MATERIAL)\n",
    "bd_topo[\"MAT_TOITS\"] = bd_topo[\"MAT_TOITS\"].astype('Int64')"
   ]
  },
  {
   "cell_type": "markdown",
   "metadata": {},
   "source": [
    "Sélection des champs utiles"
   ]
  },
  {
   "cell_type": "code",
   "execution_count": 7,
   "metadata": {},
   "outputs": [
    {
     "name": "stdout",
     "output_type": "stream",
     "text": [
      "Nombre de bâtiments :\n",
      "\tavant traitement : 3300355\n",
      "\taprès traitement : 1423140\n"
     ]
    },
    {
     "data": {
      "text/html": [
       "<div>\n",
       "<style scoped>\n",
       "    .dataframe tbody tr th:only-of-type {\n",
       "        vertical-align: middle;\n",
       "    }\n",
       "\n",
       "    .dataframe tbody tr th {\n",
       "        vertical-align: top;\n",
       "    }\n",
       "\n",
       "    .dataframe thead th {\n",
       "        text-align: right;\n",
       "    }\n",
       "</style>\n",
       "<table border=\"1\" class=\"dataframe\">\n",
       "  <thead>\n",
       "    <tr style=\"text-align: right;\">\n",
       "      <th></th>\n",
       "      <th>geometry</th>\n",
       "      <th>materiau_facade</th>\n",
       "      <th>materiau_toiture</th>\n",
       "    </tr>\n",
       "  </thead>\n",
       "  <tbody>\n",
       "    <tr>\n",
       "      <th>8</th>\n",
       "      <td>POLYGON Z ((661749.900 6857704.800 43.200, 661...</td>\n",
       "      <td>5</td>\n",
       "      <td>4</td>\n",
       "    </tr>\n",
       "    <tr>\n",
       "      <th>27</th>\n",
       "      <td>POLYGON Z ((661934.400 6857541.100 46.100, 661...</td>\n",
       "      <td>5</td>\n",
       "      <td>1</td>\n",
       "    </tr>\n",
       "    <tr>\n",
       "      <th>56</th>\n",
       "      <td>POLYGON Z ((661943.200 6857567.700 42.700, 661...</td>\n",
       "      <td>4</td>\n",
       "      <td>1</td>\n",
       "    </tr>\n",
       "    <tr>\n",
       "      <th>58</th>\n",
       "      <td>POLYGON Z ((661767.500 6857511.100 42.200, 661...</td>\n",
       "      <td>4</td>\n",
       "      <td>1</td>\n",
       "    </tr>\n",
       "    <tr>\n",
       "      <th>65</th>\n",
       "      <td>POLYGON Z ((657761.900 6795304.300 86.300, 657...</td>\n",
       "      <td>5</td>\n",
       "      <td>1</td>\n",
       "    </tr>\n",
       "  </tbody>\n",
       "</table>\n",
       "</div>"
      ],
      "text/plain": [
       "                                             geometry  materiau_facade  \\\n",
       "8   POLYGON Z ((661749.900 6857704.800 43.200, 661...                5   \n",
       "27  POLYGON Z ((661934.400 6857541.100 46.100, 661...                5   \n",
       "56  POLYGON Z ((661943.200 6857567.700 42.700, 661...                4   \n",
       "58  POLYGON Z ((661767.500 6857511.100 42.200, 661...                4   \n",
       "65  POLYGON Z ((657761.900 6795304.300 86.300, 657...                5   \n",
       "\n",
       "    materiau_toiture  \n",
       "8                  4  \n",
       "27                 1  \n",
       "56                 1  \n",
       "58                 1  \n",
       "65                 1  "
      ]
     },
     "execution_count": 7,
     "metadata": {},
     "output_type": "execute_result"
    }
   ],
   "source": [
    "# Filtrage des bâtiments en \"dur\" uniquement\n",
    "# avec un matériau de toiture n'étant pas \"indéfini\"\n",
    "bd_topo = bd_topo[\n",
    "    (bd_topo[\"LEGER\"] == \"Non\") &\n",
    "    (bd_topo[\"MAT_MURS\"] != 0) & \n",
    "    (bd_topo[\"MAT_TOITS\"] != 0)\n",
    "    ]\n",
    "\n",
    "# Table de rennomage des champs utiles\n",
    "BD_TOPO_FIELDS = {\n",
    "    \"MAT_MURS\" : \"materiau_facade\",\n",
    "    \"MAT_TOITS\" : \"materiau_toiture\"\n",
    "}\n",
    "\n",
    "# Sélection et renommage des champs utiles\n",
    "bd_topo = bd_topo[[\"geometry\"] + list(BD_TOPO_FIELDS.keys())]\n",
    "bd_topo = bd_topo.rename(columns=BD_TOPO_FIELDS)\n",
    "# Suppression des bâtiments avec au moins un des champs manquants\n",
    "bd_topo = bd_topo.dropna()\n",
    "\n",
    "print(f\"Nombre de bâtiments :\\n\\tavant traitement : {bd_topo_origin_length}\\n\\taprès traitement : {len(bd_topo)}\")\n",
    "bd_topo.head(5)"
   ]
  },
  {
   "cell_type": "markdown",
   "metadata": {},
   "source": [
    "## Agrégation"
   ]
  },
  {
   "cell_type": "markdown",
   "metadata": {},
   "source": [
    "BESOIN THEORIQUE CHAUFFAGE ET TYPOLOGIE AU BATI et BD TOPO"
   ]
  },
  {
   "cell_type": "code",
   "execution_count": 8,
   "metadata": {},
   "outputs": [
    {
     "name": "stdout",
     "output_type": "stream",
     "text": [
      "Nombre de bâtiments après agrégation : 434376\n"
     ]
    },
    {
     "data": {
      "text/html": [
       "<div>\n",
       "<style scoped>\n",
       "    .dataframe tbody tr th:only-of-type {\n",
       "        vertical-align: middle;\n",
       "    }\n",
       "\n",
       "    .dataframe tbody tr th {\n",
       "        vertical-align: top;\n",
       "    }\n",
       "\n",
       "    .dataframe thead th {\n",
       "        text-align: right;\n",
       "    }\n",
       "</style>\n",
       "<table border=\"1\" class=\"dataframe\">\n",
       "  <thead>\n",
       "    <tr style=\"text-align: right;\">\n",
       "      <th></th>\n",
       "      <th>geometry</th>\n",
       "      <th>surface_vitrage</th>\n",
       "      <th>surface_habitable</th>\n",
       "      <th>periode_construction</th>\n",
       "      <th>surface_emprise</th>\n",
       "      <th>surface_parois</th>\n",
       "      <th>nb_niveaux</th>\n",
       "      <th>hauteur_mediane</th>\n",
       "      <th>typologie_bati_apur</th>\n",
       "      <th>materiau_facade</th>\n",
       "      <th>materiau_toiture</th>\n",
       "      <th>id</th>\n",
       "    </tr>\n",
       "  </thead>\n",
       "  <tbody>\n",
       "    <tr>\n",
       "      <th>1</th>\n",
       "      <td>POLYGON ((646688.801 6862086.526, 646690.934 6...</td>\n",
       "      <td>323.876300</td>\n",
       "      <td>984.383953</td>\n",
       "      <td>3</td>\n",
       "      <td>168.075870</td>\n",
       "      <td>1199.426441</td>\n",
       "      <td>6.890333</td>\n",
       "      <td>20.671</td>\n",
       "      <td>1</td>\n",
       "      <td>2</td>\n",
       "      <td>3</td>\n",
       "      <td>1</td>\n",
       "    </tr>\n",
       "    <tr>\n",
       "      <th>3</th>\n",
       "      <td>POLYGON ((650449.828 6865554.929, 650442.522 6...</td>\n",
       "      <td>207.610361</td>\n",
       "      <td>1113.421365</td>\n",
       "      <td>3</td>\n",
       "      <td>209.116777</td>\n",
       "      <td>1570.561787</td>\n",
       "      <td>6.264000</td>\n",
       "      <td>18.792</td>\n",
       "      <td>1</td>\n",
       "      <td>5</td>\n",
       "      <td>3</td>\n",
       "      <td>3</td>\n",
       "    </tr>\n",
       "    <tr>\n",
       "      <th>7</th>\n",
       "      <td>POLYGON ((650123.622 6858949.072, 650117.173 6...</td>\n",
       "      <td>206.804731</td>\n",
       "      <td>835.155769</td>\n",
       "      <td>3</td>\n",
       "      <td>127.806816</td>\n",
       "      <td>1271.248075</td>\n",
       "      <td>7.687667</td>\n",
       "      <td>23.063</td>\n",
       "      <td>1</td>\n",
       "      <td>1</td>\n",
       "      <td>2</td>\n",
       "      <td>7</td>\n",
       "    </tr>\n",
       "    <tr>\n",
       "      <th>9</th>\n",
       "      <td>POLYGON ((649246.766 6860663.041, 649245.063 6...</td>\n",
       "      <td>323.496695</td>\n",
       "      <td>1574.377016</td>\n",
       "      <td>5</td>\n",
       "      <td>200.643633</td>\n",
       "      <td>1822.730079</td>\n",
       "      <td>9.231333</td>\n",
       "      <td>27.694</td>\n",
       "      <td>1</td>\n",
       "      <td>4</td>\n",
       "      <td>4</td>\n",
       "      <td>9</td>\n",
       "    </tr>\n",
       "    <tr>\n",
       "      <th>16</th>\n",
       "      <td>POLYGON ((649774.818 6863668.145, 649793.830 6...</td>\n",
       "      <td>329.506195</td>\n",
       "      <td>1117.689973</td>\n",
       "      <td>3</td>\n",
       "      <td>191.745887</td>\n",
       "      <td>1607.349513</td>\n",
       "      <td>6.857667</td>\n",
       "      <td>20.573</td>\n",
       "      <td>2</td>\n",
       "      <td>1</td>\n",
       "      <td>2</td>\n",
       "      <td>16</td>\n",
       "    </tr>\n",
       "  </tbody>\n",
       "</table>\n",
       "</div>"
      ],
      "text/plain": [
       "                                             geometry  surface_vitrage  \\\n",
       "1   POLYGON ((646688.801 6862086.526, 646690.934 6...       323.876300   \n",
       "3   POLYGON ((650449.828 6865554.929, 650442.522 6...       207.610361   \n",
       "7   POLYGON ((650123.622 6858949.072, 650117.173 6...       206.804731   \n",
       "9   POLYGON ((649246.766 6860663.041, 649245.063 6...       323.496695   \n",
       "16  POLYGON ((649774.818 6863668.145, 649793.830 6...       329.506195   \n",
       "\n",
       "    surface_habitable  periode_construction  surface_emprise  surface_parois  \\\n",
       "1          984.383953                     3       168.075870     1199.426441   \n",
       "3         1113.421365                     3       209.116777     1570.561787   \n",
       "7          835.155769                     3       127.806816     1271.248075   \n",
       "9         1574.377016                     5       200.643633     1822.730079   \n",
       "16        1117.689973                     3       191.745887     1607.349513   \n",
       "\n",
       "    nb_niveaux  hauteur_mediane  typologie_bati_apur  materiau_facade  \\\n",
       "1     6.890333           20.671                    1                2   \n",
       "3     6.264000           18.792                    1                5   \n",
       "7     7.687667           23.063                    1                1   \n",
       "9     9.231333           27.694                    1                4   \n",
       "16    6.857667           20.573                    2                1   \n",
       "\n",
       "    materiau_toiture  id  \n",
       "1                  3   1  \n",
       "3                  3   3  \n",
       "7                  2   7  \n",
       "9                  4   9  \n",
       "16                 2  16  "
      ]
     },
     "execution_count": 8,
     "metadata": {},
     "output_type": "execute_result"
    }
   ],
   "source": [
    "# Création d'un polygone de taille réduite \n",
    "# au niveau des centroide des bâtiments de la BD TOPO\n",
    "# afin de permettre le test d'inclusion\n",
    "bd_topo[\"geometry\"] = bd_topo[\"geometry\"].apply(lambda poly : poly.centroid.buffer(0.1))\n",
    "\n",
    "# Recoupement géométrique entre les centroides \n",
    "# des bâtiments de la BD TOPO et les emprises\n",
    "# des bâtiments de l'APUR\n",
    "intersection = gpd.sjoin(bd_apur,bd_topo, how='inner')\n",
    "intersection = intersection.drop(columns=[\"index_right\"])\n",
    "intersection['id'] = intersection.index\n",
    "\n",
    "data_agg_path = os.path.join(\"_DATA_agg\",\"BATIMENTS_GRAND_PARIS.gpkg\")\n",
    "intersection.to_file(data_agg_path, driver='GPKG', layer='bati')\n",
    "\n",
    "print(f\"Nombre de bâtiments après agrégation : {len(intersection)}\")\n",
    "intersection.head(5)"
   ]
  },
  {
   "cell_type": "markdown",
   "metadata": {},
   "source": [
    "*IGN* - BD ORTHO (Départements 75, 92, 93 et 94)"
   ]
  },
  {
   "cell_type": "code",
   "execution_count": 5,
   "metadata": {},
   "outputs": [
    {
     "name": "stdout",
     "output_type": "stream",
     "text": [
      "Extraction de la photographie aérienne du bâtiment 416548 (id : 1014486)\r"
     ]
    }
   ],
   "source": [
    "import geopandas as gpd\n",
    "import rasterio\n",
    "from rasterio.mask import mask\n",
    "\n",
    "DATA_AGG_PATH = os.path.join(\"_DATA_agg\",\"BATIMENTS_GRAND_PARIS.gpkg\")\n",
    "IMG_H, IMG_W = 60, 60\n",
    "BUILDINGS_IMGS_DIR = os.path.join(\"_DATA_agg\",\"BATIMENTS_GRAND_PARIS_imgs\")\n",
    "PROCESSED_IDS = []\n",
    "BD_ORTHO_DIRS = [\n",
    "    os.path.join(\"_DATA\", \"BD_ORTHO\", \"ORTHOHR_1-0_RVB-0M20_JP2-E080_LAMB93_D075_2021-01-01\", \"ORTHOHR\", \"1_DONNEES_LIVRAISON_2022-06-00123\", \"OHR_RVB_0M20_JP2-E080_LAMB93_D75-2021\"),\n",
    "    os.path.join(\"_DATA\", \"BD_ORTHO\", \"ORTHOHR_1-0_RVB-0M20_JP2-E080_LAMB93_D092_2021-01-01\", \"ORTHOHR\", \"1_DONNEES_LIVRAISON_2022-06-00141\", \"OHR_RVB_0M20_JP2-E080_LAMB93_D92-2021\"),\n",
    "    os.path.join(\"_DATA\", \"BD_ORTHO\", \"ORTHOHR_1-0_RVB-0M20_JP2-E080_LAMB93_D093_2021-01-01\", \"ORTHOHR\", \"1_DONNEES_LIVRAISON_2022-06-00256\", \"OHR_RVB_0M20_JP2-E080_LAMB93_D93-2021\"),\n",
    "    os.path.join(\"_DATA\", \"BD_ORTHO\", \"ORTHOHR_1-0_RVB-0M20_JP2-E080_LAMB93_D094_2021-01-01\", \"ORTHOHR\", \"1_DONNEES_LIVRAISON_2022-06-00139\", \"OHR_RVB_0M20_JP2-E080_LAMB93_D94-2021\")\n",
    "]\n",
    "\n",
    "def extract_building_aerial_image(building, tile):\n",
    "    building_id = building[\"id\"]\n",
    "    img_path = os.path.join(BUILDINGS_IMGS_DIR,f\"{building_id}.png\")\n",
    "    building_polygon = building[\"geometry\"].buffer(0.1,cap_style=3,join_style=2)\n",
    "    # Découpage de l'image aérienne grâce au polygone d'emprise du bâtiment\n",
    "    if not os.path.exists(img_path):\n",
    "        img,trs = mask(tile,[building_polygon],crop=True,pad=True)\n",
    "        with rasterio.open(img_path,\"w+\",transform=trs,dtype=rasterio.uint8,driver=\"PNG\",height=IMG_H,width=IMG_W,count=3) as p:\n",
    "            p.write(img)\n",
    "            \n",
    "    PROCESSED_IDS.append(building_id)\n",
    "    print(f\"\"\"Extraction de la photographie aérienne du bâtiment {len(PROCESSED_IDS)} (id : {building_id})\"\"\",end=\"\\r\")\n",
    "\n",
    "# Itération à travers chaque image aérienne (carreau) de chaque département\n",
    "for bd_ortho_dir in BD_ORTHO_DIRS:\n",
    "    for file in os.listdir(bd_ortho_dir):\n",
    "        if file.endswith(\".jp2\"):\n",
    "            tile = rasterio.open(os.path.join(bd_ortho_dir,file))\n",
    "            tile_bounds = tile.bounds\n",
    "            # Sélection des bâtiments de la base agrégée situés sur le carreau chargé\n",
    "            tile_buildings = gpd.read_file(DATA_AGG_PATH,bbox=tile_bounds)\n",
    "            # Filtrage des bâtiments déjà traités (car à cheval sur d'autres carreaux)\n",
    "            tile_buildings = tile_buildings[~tile_buildings[\"id\"].isin(PROCESSED_IDS)]\n",
    "            if not tile_buildings.empty:\n",
    "                # Extraction et enregistrement des images aériennes des bâtiments sélectionnés\n",
    "                tile_buildings = tile_buildings.apply(extract_building_aerial_image, axis=1, tile=tile)\n",
    "            "
   ]
  },
  {
   "cell_type": "markdown",
   "metadata": {},
   "source": [
    "#### SYNTHESE"
   ]
  },
  {
   "cell_type": "markdown",
   "metadata": {},
   "source": [
    "Total de bâtiments :\n",
    "\n",
    "||APUR|IGN|\n",
    "|---|---|---|\n",
    "|Avant prétraitement|1113344|3300355|\n",
    "|Après prétraitement|901225|1423140|\n",
    "\n",
    "Total après agrégation : **434 376**"
   ]
  },
  {
   "cell_type": "code",
   "execution_count": 7,
   "metadata": {},
   "outputs": [
    {
     "data": {
      "text/html": [
       "<table border=\"1\" class=\"dataframe\">\n",
       "  <thead>\n",
       "    <tr style=\"text-align: right;\">\n",
       "      <th></th>\n",
       "      <th>surface_vitrage</th>\n",
       "      <th>surface_habitable</th>\n",
       "      <th>periode_construction</th>\n",
       "      <th>surface_emprise</th>\n",
       "      <th>surface_parois</th>\n",
       "      <th>nb_niveaux</th>\n",
       "      <th>hauteur_mediane</th>\n",
       "      <th>typologie_bati_apur</th>\n",
       "      <th>materiau_facade</th>\n",
       "      <th>materiau_toiture</th>\n",
       "      <th>id</th>\n",
       "      <th>img</th>\n",
       "    </tr>\n",
       "  </thead>\n",
       "  <tbody>\n",
       "    <tr>\n",
       "      <th>0</th>\n",
       "      <td>323.876300</td>\n",
       "      <td>984.383953</td>\n",
       "      <td>3</td>\n",
       "      <td>168.075870</td>\n",
       "      <td>1199.426441</td>\n",
       "      <td>6.890333</td>\n",
       "      <td>20.671</td>\n",
       "      <td>1</td>\n",
       "      <td>2</td>\n",
       "      <td>3</td>\n",
       "      <td>1</td>\n",
       "      <td><img src=\"_DATA_agg\\BATIMENTS_GRAND_PARIS_imgs\\1.png\" width=\"60\"></td>\n",
       "    </tr>\n",
       "    <tr>\n",
       "      <th>1</th>\n",
       "      <td>207.610361</td>\n",
       "      <td>1113.421365</td>\n",
       "      <td>3</td>\n",
       "      <td>209.116777</td>\n",
       "      <td>1570.561787</td>\n",
       "      <td>6.264000</td>\n",
       "      <td>18.792</td>\n",
       "      <td>1</td>\n",
       "      <td>5</td>\n",
       "      <td>3</td>\n",
       "      <td>3</td>\n",
       "      <td><img src=\"_DATA_agg\\BATIMENTS_GRAND_PARIS_imgs\\3.png\" width=\"60\"></td>\n",
       "    </tr>\n",
       "    <tr>\n",
       "      <th>2</th>\n",
       "      <td>206.804731</td>\n",
       "      <td>835.155769</td>\n",
       "      <td>3</td>\n",
       "      <td>127.806816</td>\n",
       "      <td>1271.248075</td>\n",
       "      <td>7.687667</td>\n",
       "      <td>23.063</td>\n",
       "      <td>1</td>\n",
       "      <td>1</td>\n",
       "      <td>2</td>\n",
       "      <td>7</td>\n",
       "      <td><img src=\"_DATA_agg\\BATIMENTS_GRAND_PARIS_imgs\\7.png\" width=\"60\"></td>\n",
       "    </tr>\n",
       "    <tr>\n",
       "      <th>3</th>\n",
       "      <td>323.496695</td>\n",
       "      <td>1574.377016</td>\n",
       "      <td>5</td>\n",
       "      <td>200.643633</td>\n",
       "      <td>1822.730079</td>\n",
       "      <td>9.231333</td>\n",
       "      <td>27.694</td>\n",
       "      <td>1</td>\n",
       "      <td>4</td>\n",
       "      <td>4</td>\n",
       "      <td>9</td>\n",
       "      <td><img src=\"_DATA_agg\\BATIMENTS_GRAND_PARIS_imgs\\9.png\" width=\"60\"></td>\n",
       "    </tr>\n",
       "    <tr>\n",
       "      <th>4</th>\n",
       "      <td>329.506195</td>\n",
       "      <td>1117.689973</td>\n",
       "      <td>3</td>\n",
       "      <td>191.745887</td>\n",
       "      <td>1607.349513</td>\n",
       "      <td>6.857667</td>\n",
       "      <td>20.573</td>\n",
       "      <td>2</td>\n",
       "      <td>1</td>\n",
       "      <td>2</td>\n",
       "      <td>16</td>\n",
       "      <td><img src=\"_DATA_agg\\BATIMENTS_GRAND_PARIS_imgs\\16.png\" width=\"60\"></td>\n",
       "    </tr>\n",
       "  </tbody>\n",
       "</table>"
      ],
      "text/plain": [
       "<IPython.core.display.HTML object>"
      ]
     },
     "execution_count": 7,
     "metadata": {},
     "output_type": "execute_result"
    }
   ],
   "source": [
    "from IPython.core.display import HTML\n",
    "# Affichage de quelques bâtiments après agrégation\n",
    "sample_buildings = gpd.read_file(DATA_AGG_PATH,rows=5)\n",
    "sample_buildings = sample_buildings.drop(columns=\"geometry\")\n",
    "sample_buildings[\"img\"] = sample_buildings[\"id\"].apply(lambda x: '<img src=\"' + os.path.join(\"_DATA_agg\",\"BATIMENTS_GRAND_PARIS_imgs\",f\"{x}.png\") + '\" width=\"60\">')\n",
    "\n",
    "# Intégration des images dans la table\n",
    "HTML(sample_buildings.to_html(escape=False))"
   ]
  },
  {
   "cell_type": "markdown",
   "metadata": {},
   "source": [
    "#### LABELS\n",
    "\n",
    "<table align=\"top\">\n",
    "<tr style=\"vertical-align:top\"><th>periode_construction</th><th>typologie_bati_apur</th><th>materiau_facade</th><th>materiau_toiture</th></tr>\n",
    "<tr style=\"vertical-align:top\"><td>\n",
    "\n",
    "|*Code*|*Label*           |\n",
    "|---|---|\n",
    "|1 | Avant 1800           |\n",
    "|2 | 1801-1850            |\n",
    "|3 | 1851-1914            |\n",
    "|4 | 1915-1939            |\n",
    "|5 | 1940-1967            |\n",
    "|6 | 1968-1975            |\n",
    "|7 | 1976-1981            |\n",
    "|8 | 1982-1989            |\n",
    "|9 | 1990-1999            |\n",
    "|10| 2000-2007            |\n",
    "|11| Après 2008           |\n",
    "\n",
    "</td><td>\n",
    "\n",
    "|*Code*|*Label*                     |\n",
    "|---|---|\n",
    "|0| logement individuel             |\n",
    "|1| logement collectif              |\n",
    "|2| bâtiment mixte                  |\n",
    "|3| batiment tertiaire ou industriel|\n",
    "|4| non déterminée                  |\n",
    " \n",
    "</td><td>\n",
    "\n",
    "|*Code*|*Label*     |\n",
    "|---|---|\n",
    "|1| Pierre          |\n",
    "|2|Meulière         |\n",
    "|3|Béton            |\n",
    "|4|Briques          |\n",
    "|5|Aggloméré        |\n",
    "|6|Bois             |\n",
    "\n",
    "</td><td>\n",
    "\n",
    "|*Code*|*Label*|\n",
    "|---|---|        \n",
    "|1|Tuiles|\n",
    "|2|Ardoises|\n",
    "|3|Zinc/Aluminium/Tôle|\n",
    "|4|Béton|\n",
    "\n",
    "</td></tr> </table>"
   ]
  },
  {
   "cell_type": "markdown",
   "metadata": {},
   "source": [
    "## Étude des corrélations"
   ]
  },
  {
   "cell_type": "code",
   "execution_count": 9,
   "metadata": {},
   "outputs": [
    {
     "data": {
      "application/vnd.plotly.v1+json": {
       "config": {
        "plotlyServerURL": "https://plot.ly"
       },
       "data": [
        {
         "coloraxis": "coloraxis",
         "hovertemplate": "x: %{x}<br>y: %{y}<br>color: %{z}<extra></extra>",
         "name": "0",
         "type": "heatmap",
         "x": [
          "surface_vitrage",
          "surface_habitable",
          "surface_emprise",
          "surface_parois",
          "nb_niveaux",
          "hauteur_mediane",
          "periode_construction_1",
          "periode_construction_2",
          "periode_construction_3",
          "periode_construction_5",
          "periode_construction_6",
          "periode_construction_7",
          "periode_construction_8",
          "periode_construction_9",
          "periode_construction_10",
          "periode_construction_11",
          "periode_construction_12",
          "typologie_bati_apur_0",
          "typologie_bati_apur_1",
          "typologie_bati_apur_2",
          "materiau_facade_1",
          "materiau_facade_2",
          "materiau_facade_3",
          "materiau_facade_4",
          "materiau_facade_5",
          "materiau_facade_6",
          "materiau_toiture_1",
          "materiau_toiture_2",
          "materiau_toiture_3",
          "materiau_toiture_4"
         ],
         "xaxis": "x",
         "y": [
          "bâtiment mixte",
          "logement collectif",
          "logement individuel"
         ],
         "yaxis": "y",
         "z": [
          [
           0.04544785793364371,
           0.0774257167403581,
           0.08499504969434896,
           0.09359111911362895,
           0.12803209152678344,
           0.12803209152677894,
           0.11928662780231661,
           0.08905670726836047,
           0.06195508551562728,
           -0.04107961005473524,
           -0.03566254482674795,
           -0.016988327793162335,
           -0.019353577091191287,
           -0.02550184075726075,
           -0.015008086463541506,
           -0.013124763477272533,
           -0.007474280336735607,
           -0.25182026369507726,
           -0.10228560004726599,
           1,
           0.06486998706061488,
           0.0462293322818795,
           -0.017004732774440375,
           -0.019256825174051872,
           -0.042750116218505496,
           0.01416198810832089,
           -0.08898819004265443,
           0.03178336726878478,
           0.09140012487799795,
           0.014734751577048679
          ],
          [
           0.3111076457800788,
           0.3098055074613169,
           0.26339903208111826,
           0.42063395898630646,
           0.5445847314167284,
           0.5445847314167146,
           0.08237111848678814,
           0.11107922621321425,
           0.19356151074911335,
           -0.13262767451866275,
           -0.06782612917679334,
           0.004046938899097393,
           -0.03462512482027811,
           -0.035919799029833145,
           -0.01584738228468011,
           -0.020173970922718488,
           0.0007000717389613374,
           -0.9369405300248211,
           1,
           -0.10228560004726599,
           0.160108918890431,
           0.06339963478683394,
           0.049607911528486155,
           -0.07348074709048578,
           -0.11044320275564175,
           -0.0008402295353720302,
           -0.39736872767980363,
           0.15065771225144634,
           0.2700353000287017,
           0.20393886755319127
          ],
          [
           -0.3186366417279173,
           -0.3286046520762194,
           -0.2861162194358909,
           -0.4421064845614497,
           -0.5747955012956623,
           -0.574795501295649,
           -0.12204609546637459,
           -0.13935481969326002,
           -0.21007825694619606,
           0.14346293527664644,
           0.07851583664344818,
           0.002031362845894143,
           0.04048549876725252,
           0.04390513606208443,
           0.020690362901485057,
           0.02423792935917568,
           0.001944866942548574,
           1,
           -0.9369405300248211,
           -0.25182026369507726,
           -0.1785571070425012,
           -0.07792184914823858,
           -0.0422880816909581,
           0.07825323584647155,
           0.12246708137934598,
           -0.00415811335653796,
           0.41785512924112955,
           -0.1577378753700056,
           -0.2948227947375536,
           -0.2035841528420277
          ]
         ]
        }
       ],
       "layout": {
        "coloraxis": {
         "colorscale": [
          [
           0,
           "rgb(5,48,97)"
          ],
          [
           0.1,
           "rgb(33,102,172)"
          ],
          [
           0.2,
           "rgb(67,147,195)"
          ],
          [
           0.3,
           "rgb(146,197,222)"
          ],
          [
           0.4,
           "rgb(209,229,240)"
          ],
          [
           0.5,
           "rgb(247,247,247)"
          ],
          [
           0.6,
           "rgb(253,219,199)"
          ],
          [
           0.7,
           "rgb(244,165,130)"
          ],
          [
           0.8,
           "rgb(214,96,77)"
          ],
          [
           0.9,
           "rgb(178,24,43)"
          ],
          [
           1,
           "rgb(103,0,31)"
          ]
         ]
        },
        "margin": {
         "t": 60
        },
        "template": {
         "data": {
          "bar": [
           {
            "error_x": {
             "color": "#2a3f5f"
            },
            "error_y": {
             "color": "#2a3f5f"
            },
            "marker": {
             "line": {
              "color": "#E5ECF6",
              "width": 0.5
             },
             "pattern": {
              "fillmode": "overlay",
              "size": 10,
              "solidity": 0.2
             }
            },
            "type": "bar"
           }
          ],
          "barpolar": [
           {
            "marker": {
             "line": {
              "color": "#E5ECF6",
              "width": 0.5
             },
             "pattern": {
              "fillmode": "overlay",
              "size": 10,
              "solidity": 0.2
             }
            },
            "type": "barpolar"
           }
          ],
          "carpet": [
           {
            "aaxis": {
             "endlinecolor": "#2a3f5f",
             "gridcolor": "white",
             "linecolor": "white",
             "minorgridcolor": "white",
             "startlinecolor": "#2a3f5f"
            },
            "baxis": {
             "endlinecolor": "#2a3f5f",
             "gridcolor": "white",
             "linecolor": "white",
             "minorgridcolor": "white",
             "startlinecolor": "#2a3f5f"
            },
            "type": "carpet"
           }
          ],
          "choropleth": [
           {
            "colorbar": {
             "outlinewidth": 0,
             "ticks": ""
            },
            "type": "choropleth"
           }
          ],
          "contour": [
           {
            "colorbar": {
             "outlinewidth": 0,
             "ticks": ""
            },
            "colorscale": [
             [
              0,
              "#0d0887"
             ],
             [
              0.1111111111111111,
              "#46039f"
             ],
             [
              0.2222222222222222,
              "#7201a8"
             ],
             [
              0.3333333333333333,
              "#9c179e"
             ],
             [
              0.4444444444444444,
              "#bd3786"
             ],
             [
              0.5555555555555556,
              "#d8576b"
             ],
             [
              0.6666666666666666,
              "#ed7953"
             ],
             [
              0.7777777777777778,
              "#fb9f3a"
             ],
             [
              0.8888888888888888,
              "#fdca26"
             ],
             [
              1,
              "#f0f921"
             ]
            ],
            "type": "contour"
           }
          ],
          "contourcarpet": [
           {
            "colorbar": {
             "outlinewidth": 0,
             "ticks": ""
            },
            "type": "contourcarpet"
           }
          ],
          "heatmap": [
           {
            "colorbar": {
             "outlinewidth": 0,
             "ticks": ""
            },
            "colorscale": [
             [
              0,
              "#0d0887"
             ],
             [
              0.1111111111111111,
              "#46039f"
             ],
             [
              0.2222222222222222,
              "#7201a8"
             ],
             [
              0.3333333333333333,
              "#9c179e"
             ],
             [
              0.4444444444444444,
              "#bd3786"
             ],
             [
              0.5555555555555556,
              "#d8576b"
             ],
             [
              0.6666666666666666,
              "#ed7953"
             ],
             [
              0.7777777777777778,
              "#fb9f3a"
             ],
             [
              0.8888888888888888,
              "#fdca26"
             ],
             [
              1,
              "#f0f921"
             ]
            ],
            "type": "heatmap"
           }
          ],
          "heatmapgl": [
           {
            "colorbar": {
             "outlinewidth": 0,
             "ticks": ""
            },
            "colorscale": [
             [
              0,
              "#0d0887"
             ],
             [
              0.1111111111111111,
              "#46039f"
             ],
             [
              0.2222222222222222,
              "#7201a8"
             ],
             [
              0.3333333333333333,
              "#9c179e"
             ],
             [
              0.4444444444444444,
              "#bd3786"
             ],
             [
              0.5555555555555556,
              "#d8576b"
             ],
             [
              0.6666666666666666,
              "#ed7953"
             ],
             [
              0.7777777777777778,
              "#fb9f3a"
             ],
             [
              0.8888888888888888,
              "#fdca26"
             ],
             [
              1,
              "#f0f921"
             ]
            ],
            "type": "heatmapgl"
           }
          ],
          "histogram": [
           {
            "marker": {
             "pattern": {
              "fillmode": "overlay",
              "size": 10,
              "solidity": 0.2
             }
            },
            "type": "histogram"
           }
          ],
          "histogram2d": [
           {
            "colorbar": {
             "outlinewidth": 0,
             "ticks": ""
            },
            "colorscale": [
             [
              0,
              "#0d0887"
             ],
             [
              0.1111111111111111,
              "#46039f"
             ],
             [
              0.2222222222222222,
              "#7201a8"
             ],
             [
              0.3333333333333333,
              "#9c179e"
             ],
             [
              0.4444444444444444,
              "#bd3786"
             ],
             [
              0.5555555555555556,
              "#d8576b"
             ],
             [
              0.6666666666666666,
              "#ed7953"
             ],
             [
              0.7777777777777778,
              "#fb9f3a"
             ],
             [
              0.8888888888888888,
              "#fdca26"
             ],
             [
              1,
              "#f0f921"
             ]
            ],
            "type": "histogram2d"
           }
          ],
          "histogram2dcontour": [
           {
            "colorbar": {
             "outlinewidth": 0,
             "ticks": ""
            },
            "colorscale": [
             [
              0,
              "#0d0887"
             ],
             [
              0.1111111111111111,
              "#46039f"
             ],
             [
              0.2222222222222222,
              "#7201a8"
             ],
             [
              0.3333333333333333,
              "#9c179e"
             ],
             [
              0.4444444444444444,
              "#bd3786"
             ],
             [
              0.5555555555555556,
              "#d8576b"
             ],
             [
              0.6666666666666666,
              "#ed7953"
             ],
             [
              0.7777777777777778,
              "#fb9f3a"
             ],
             [
              0.8888888888888888,
              "#fdca26"
             ],
             [
              1,
              "#f0f921"
             ]
            ],
            "type": "histogram2dcontour"
           }
          ],
          "mesh3d": [
           {
            "colorbar": {
             "outlinewidth": 0,
             "ticks": ""
            },
            "type": "mesh3d"
           }
          ],
          "parcoords": [
           {
            "line": {
             "colorbar": {
              "outlinewidth": 0,
              "ticks": ""
             }
            },
            "type": "parcoords"
           }
          ],
          "pie": [
           {
            "automargin": true,
            "type": "pie"
           }
          ],
          "scatter": [
           {
            "fillpattern": {
             "fillmode": "overlay",
             "size": 10,
             "solidity": 0.2
            },
            "type": "scatter"
           }
          ],
          "scatter3d": [
           {
            "line": {
             "colorbar": {
              "outlinewidth": 0,
              "ticks": ""
             }
            },
            "marker": {
             "colorbar": {
              "outlinewidth": 0,
              "ticks": ""
             }
            },
            "type": "scatter3d"
           }
          ],
          "scattercarpet": [
           {
            "marker": {
             "colorbar": {
              "outlinewidth": 0,
              "ticks": ""
             }
            },
            "type": "scattercarpet"
           }
          ],
          "scattergeo": [
           {
            "marker": {
             "colorbar": {
              "outlinewidth": 0,
              "ticks": ""
             }
            },
            "type": "scattergeo"
           }
          ],
          "scattergl": [
           {
            "marker": {
             "colorbar": {
              "outlinewidth": 0,
              "ticks": ""
             }
            },
            "type": "scattergl"
           }
          ],
          "scattermapbox": [
           {
            "marker": {
             "colorbar": {
              "outlinewidth": 0,
              "ticks": ""
             }
            },
            "type": "scattermapbox"
           }
          ],
          "scatterpolar": [
           {
            "marker": {
             "colorbar": {
              "outlinewidth": 0,
              "ticks": ""
             }
            },
            "type": "scatterpolar"
           }
          ],
          "scatterpolargl": [
           {
            "marker": {
             "colorbar": {
              "outlinewidth": 0,
              "ticks": ""
             }
            },
            "type": "scatterpolargl"
           }
          ],
          "scatterternary": [
           {
            "marker": {
             "colorbar": {
              "outlinewidth": 0,
              "ticks": ""
             }
            },
            "type": "scatterternary"
           }
          ],
          "surface": [
           {
            "colorbar": {
             "outlinewidth": 0,
             "ticks": ""
            },
            "colorscale": [
             [
              0,
              "#0d0887"
             ],
             [
              0.1111111111111111,
              "#46039f"
             ],
             [
              0.2222222222222222,
              "#7201a8"
             ],
             [
              0.3333333333333333,
              "#9c179e"
             ],
             [
              0.4444444444444444,
              "#bd3786"
             ],
             [
              0.5555555555555556,
              "#d8576b"
             ],
             [
              0.6666666666666666,
              "#ed7953"
             ],
             [
              0.7777777777777778,
              "#fb9f3a"
             ],
             [
              0.8888888888888888,
              "#fdca26"
             ],
             [
              1,
              "#f0f921"
             ]
            ],
            "type": "surface"
           }
          ],
          "table": [
           {
            "cells": {
             "fill": {
              "color": "#EBF0F8"
             },
             "line": {
              "color": "white"
             }
            },
            "header": {
             "fill": {
              "color": "#C8D4E3"
             },
             "line": {
              "color": "white"
             }
            },
            "type": "table"
           }
          ]
         },
         "layout": {
          "annotationdefaults": {
           "arrowcolor": "#2a3f5f",
           "arrowhead": 0,
           "arrowwidth": 1
          },
          "autotypenumbers": "strict",
          "coloraxis": {
           "colorbar": {
            "outlinewidth": 0,
            "ticks": ""
           }
          },
          "colorscale": {
           "diverging": [
            [
             0,
             "#8e0152"
            ],
            [
             0.1,
             "#c51b7d"
            ],
            [
             0.2,
             "#de77ae"
            ],
            [
             0.3,
             "#f1b6da"
            ],
            [
             0.4,
             "#fde0ef"
            ],
            [
             0.5,
             "#f7f7f7"
            ],
            [
             0.6,
             "#e6f5d0"
            ],
            [
             0.7,
             "#b8e186"
            ],
            [
             0.8,
             "#7fbc41"
            ],
            [
             0.9,
             "#4d9221"
            ],
            [
             1,
             "#276419"
            ]
           ],
           "sequential": [
            [
             0,
             "#0d0887"
            ],
            [
             0.1111111111111111,
             "#46039f"
            ],
            [
             0.2222222222222222,
             "#7201a8"
            ],
            [
             0.3333333333333333,
             "#9c179e"
            ],
            [
             0.4444444444444444,
             "#bd3786"
            ],
            [
             0.5555555555555556,
             "#d8576b"
            ],
            [
             0.6666666666666666,
             "#ed7953"
            ],
            [
             0.7777777777777778,
             "#fb9f3a"
            ],
            [
             0.8888888888888888,
             "#fdca26"
            ],
            [
             1,
             "#f0f921"
            ]
           ],
           "sequentialminus": [
            [
             0,
             "#0d0887"
            ],
            [
             0.1111111111111111,
             "#46039f"
            ],
            [
             0.2222222222222222,
             "#7201a8"
            ],
            [
             0.3333333333333333,
             "#9c179e"
            ],
            [
             0.4444444444444444,
             "#bd3786"
            ],
            [
             0.5555555555555556,
             "#d8576b"
            ],
            [
             0.6666666666666666,
             "#ed7953"
            ],
            [
             0.7777777777777778,
             "#fb9f3a"
            ],
            [
             0.8888888888888888,
             "#fdca26"
            ],
            [
             1,
             "#f0f921"
            ]
           ]
          },
          "colorway": [
           "#636efa",
           "#EF553B",
           "#00cc96",
           "#ab63fa",
           "#FFA15A",
           "#19d3f3",
           "#FF6692",
           "#B6E880",
           "#FF97FF",
           "#FECB52"
          ],
          "font": {
           "color": "#2a3f5f"
          },
          "geo": {
           "bgcolor": "white",
           "lakecolor": "white",
           "landcolor": "#E5ECF6",
           "showlakes": true,
           "showland": true,
           "subunitcolor": "white"
          },
          "hoverlabel": {
           "align": "left"
          },
          "hovermode": "closest",
          "mapbox": {
           "style": "light"
          },
          "paper_bgcolor": "white",
          "plot_bgcolor": "#E5ECF6",
          "polar": {
           "angularaxis": {
            "gridcolor": "white",
            "linecolor": "white",
            "ticks": ""
           },
           "bgcolor": "#E5ECF6",
           "radialaxis": {
            "gridcolor": "white",
            "linecolor": "white",
            "ticks": ""
           }
          },
          "scene": {
           "xaxis": {
            "backgroundcolor": "#E5ECF6",
            "gridcolor": "white",
            "gridwidth": 2,
            "linecolor": "white",
            "showbackground": true,
            "ticks": "",
            "zerolinecolor": "white"
           },
           "yaxis": {
            "backgroundcolor": "#E5ECF6",
            "gridcolor": "white",
            "gridwidth": 2,
            "linecolor": "white",
            "showbackground": true,
            "ticks": "",
            "zerolinecolor": "white"
           },
           "zaxis": {
            "backgroundcolor": "#E5ECF6",
            "gridcolor": "white",
            "gridwidth": 2,
            "linecolor": "white",
            "showbackground": true,
            "ticks": "",
            "zerolinecolor": "white"
           }
          },
          "shapedefaults": {
           "line": {
            "color": "#2a3f5f"
           }
          },
          "ternary": {
           "aaxis": {
            "gridcolor": "white",
            "linecolor": "white",
            "ticks": ""
           },
           "baxis": {
            "gridcolor": "white",
            "linecolor": "white",
            "ticks": ""
           },
           "bgcolor": "#E5ECF6",
           "caxis": {
            "gridcolor": "white",
            "linecolor": "white",
            "ticks": ""
           }
          },
          "title": {
           "x": 0.05
          },
          "xaxis": {
           "automargin": true,
           "gridcolor": "white",
           "linecolor": "white",
           "ticks": "",
           "title": {
            "standoff": 15
           },
           "zerolinecolor": "white",
           "zerolinewidth": 2
          },
          "yaxis": {
           "automargin": true,
           "gridcolor": "white",
           "linecolor": "white",
           "ticks": "",
           "title": {
            "standoff": 15
           },
           "zerolinecolor": "white",
           "zerolinewidth": 2
          }
         }
        },
        "xaxis": {
         "anchor": "y",
         "constrain": "domain",
         "domain": [
          0,
          1
         ],
         "scaleanchor": "y"
        },
        "yaxis": {
         "anchor": "x",
         "autorange": "reversed",
         "constrain": "domain",
         "domain": [
          0,
          1
         ]
        }
       }
      }
     },
     "metadata": {},
     "output_type": "display_data"
    }
   ],
   "source": [
    "import geopandas as gpd\n",
    "import pandas as pd\n",
    "import plotly.express as px\n",
    "\n",
    "DATA_AGG_PATH = os.path.join(\"_DATA_agg\",\"BATIMENTS_GRAND_PARIS.gpkg\")\n",
    "\n",
    "# Chargement du jeu agrégé\n",
    "buildings = gpd.read_file(DATA_AGG_PATH)\n",
    "\n",
    "# Déclinaison des colonnes catégoriques en colonnes indicatrices pour chaque catégorie possible\n",
    "# _______| typologie |   --->   _______| typologie_a | typologie_b |\n",
    "# bati_1 | a         |   --->   bati_1 | 1           | 0           |\n",
    "# bati_2 | b         |   --->   bati_2 | 0           | 1           |\n",
    "cols_to_decline = [\"periode_construction\",\"typologie_bati_apur\",\"materiau_facade\",\"materiau_toiture\"]\n",
    "buildings[cols_to_decline] = buildings[cols_to_decline].astype(\"category\")\n",
    "buildings = pd.get_dummies(buildings,prefix=cols_to_decline)\n",
    "buildings = buildings.drop(columns=[\"id\",\"geometry\"])\n",
    "# Calcul des coefficients de corrélation\n",
    "correlation = buildings.corr()\n",
    "# Construction et export du corrélogramme global\n",
    "fig = px.imshow(correlation, color_continuous_scale='RdBu_r')\n",
    "fig.write_html(os.path.join(\"_OUTPUT\", \"matrice_corrélation.html\"))\n",
    "\n",
    "# Orientation du corrélogramme selon la destination du bâtiment\n",
    "DESTINATIONS = {\n",
    "    \"typologie_bati_apur_2\" : \"bâtiment mixte\",\n",
    "    \"typologie_bati_apur_1\" : \"logement collectif\",\n",
    "    \"typologie_bati_apur_0\" : \"logement individuel\"\n",
    "}\n",
    "correl_destination = correlation.loc[list(DESTINATIONS.keys())]\n",
    "correl_destination = correl_destination.rename(index=DESTINATIONS)\n",
    "# Construction et export du corrélogramme par destination du bâtiment\n",
    "fig2 = px.imshow(correl_destination, color_continuous_scale='RdBu_r')\n",
    "fig2.write_html(os.path.join(\"_OUTPUT\", \"matrice_corrélation_par_destination.html\"))\n",
    "\n",
    "fig2"
   ]
  },
  {
   "cell_type": "markdown",
   "metadata": {},
   "source": [
    "## Entraînement d'un réseau de neurones"
   ]
  },
  {
   "cell_type": "markdown",
   "metadata": {},
   "source": [
    "#### Exemple : Classification de matériaux de toiture à partir de photographies aériennes"
   ]
  },
  {
   "cell_type": "code",
   "execution_count": 4,
   "metadata": {},
   "outputs": [
    {
     "name": "stdout",
     "output_type": "stream",
     "text": [
      "(100000, 60, 60, 3) (60, 60, 3)\n",
      "(100000,) ()\n"
     ]
    }
   ],
   "source": [
    "import geopandas as gpd\n",
    "import tensorflow as tf\n",
    "import autokeras as ak\n",
    "import numpy as np\n",
    "from PIL import Image\n",
    "\n",
    "DATA_AGG_PATH = os.path.join(\"_DATA_agg\",\"BATIMENTS_GRAND_PARIS.gpkg\")\n",
    "BUILDINGS_IMGS_DIR = os.path.join(\"_DATA_agg\",\"BATIMENTS_GRAND_PARIS_imgs\")\n",
    "\n",
    "def load_img(building_id):\n",
    "    path = os.path.join(BUILDINGS_IMGS_DIR,f\"{building_id}.png\")\n",
    "    if os.path.exists(path):\n",
    "        img = Image.open(path)\n",
    "        return np.asarray(img)\n",
    "    return None\n",
    "\n",
    "buildings = gpd.read_file(DATA_AGG_PATH,rows=100000) # Essai avec 100 000 bâtiments dans ce notebook\n",
    "# Chargement des photographies et suppression des bâtiments sans photographie\n",
    "buildings[\"img\"] = buildings[\"id\"].apply(load_img)\n",
    "buildings = buildings.dropna()\n",
    "# Sélection des données pour l'entraînement\n",
    "# X : images sur lesquelles se basent la prédiction\n",
    "X = np.stack(buildings[\"img\"].to_list())\n",
    "# y : \"labels\" correspondants\n",
    "y = buildings[\"materiau_toiture\"].to_numpy()\n",
    "\n",
    "# Dimensions de X et dimension de chaque image (3 valeurs par pixel sur 60x60 pixels)\n",
    "print(X.shape, X[0].shape)\n",
    "# Dimensions de y et dimension de chaque label (une seule valeur numérique)\n",
    "print(y.shape, y[0].shape)"
   ]
  },
  {
   "cell_type": "code",
   "execution_count": 5,
   "metadata": {},
   "outputs": [
    {
     "name": "stdout",
     "output_type": "stream",
     "text": [
      "INFO:tensorflow:Reloading Oracle from existing project _MDL\\mdl_prediction_mat_toiture_temp\\image_classifier\\oracle.json\n"
     ]
    },
    {
     "name": "stderr",
     "output_type": "stream",
     "text": [
      "INFO:tensorflow:Reloading Oracle from existing project _MDL\\mdl_prediction_mat_toiture_temp\\image_classifier\\oracle.json\n"
     ]
    },
    {
     "name": "stdout",
     "output_type": "stream",
     "text": [
      "INFO:tensorflow:Reloading Tuner from _MDL\\mdl_prediction_mat_toiture_temp\\image_classifier\\tuner0.json\n"
     ]
    },
    {
     "name": "stderr",
     "output_type": "stream",
     "text": [
      "INFO:tensorflow:Reloading Tuner from _MDL\\mdl_prediction_mat_toiture_temp\\image_classifier\\tuner0.json\n"
     ]
    },
    {
     "name": "stdout",
     "output_type": "stream",
     "text": [
      "INFO:tensorflow:Oracle triggered exit\n"
     ]
    },
    {
     "name": "stderr",
     "output_type": "stream",
     "text": [
      "INFO:tensorflow:Oracle triggered exit\n"
     ]
    },
    {
     "name": "stdout",
     "output_type": "stream",
     "text": [
      "Epoch 1/10\n",
      "3125/3125 [==============================] - 427s 136ms/step - loss: 0.7138 - accuracy: 0.7258\n",
      "Epoch 2/10\n",
      "3125/3125 [==============================] - 417s 134ms/step - loss: 0.6764 - accuracy: 0.7415\n",
      "Epoch 3/10\n",
      "3125/3125 [==============================] - 449s 144ms/step - loss: 0.6636 - accuracy: 0.7456\n",
      "Epoch 4/10\n",
      "3125/3125 [==============================] - 452s 145ms/step - loss: 0.6533 - accuracy: 0.7522\n",
      "Epoch 5/10\n",
      "3125/3125 [==============================] - 436s 140ms/step - loss: 0.6390 - accuracy: 0.7577\n",
      "Epoch 6/10\n",
      "3125/3125 [==============================] - 429s 137ms/step - loss: 0.6285 - accuracy: 0.7621\n",
      "Epoch 7/10\n",
      "3125/3125 [==============================] - 429s 137ms/step - loss: 0.6199 - accuracy: 0.7638\n",
      "Epoch 8/10\n",
      "3125/3125 [==============================] - 432s 138ms/step - loss: 0.6153 - accuracy: 0.7656\n",
      "Epoch 9/10\n",
      "3125/3125 [==============================] - 431s 138ms/step - loss: 0.6056 - accuracy: 0.7706\n",
      "Epoch 10/10\n",
      "3125/3125 [==============================] - 434s 139ms/step - loss: 0.5977 - accuracy: 0.7728\n"
     ]
    },
    {
     "name": "stderr",
     "output_type": "stream",
     "text": [
      "WARNING:absl:Found untraced functions such as _jit_compiled_convolution_op, _jit_compiled_convolution_op while saving (showing 2 of 2). These functions will not be directly callable after loading.\n"
     ]
    },
    {
     "name": "stdout",
     "output_type": "stream",
     "text": [
      "INFO:tensorflow:Assets written to: _MDL\\mdl_prediction_mat_toiture_temp\\image_classifier\\best_model\\assets\n"
     ]
    },
    {
     "name": "stderr",
     "output_type": "stream",
     "text": [
      "INFO:tensorflow:Assets written to: _MDL\\mdl_prediction_mat_toiture_temp\\image_classifier\\best_model\\assets\n",
      "WARNING:absl:Found untraced functions such as _jit_compiled_convolution_op, _jit_compiled_convolution_op while saving (showing 2 of 2). These functions will not be directly callable after loading.\n"
     ]
    },
    {
     "name": "stdout",
     "output_type": "stream",
     "text": [
      "INFO:tensorflow:Assets written to: _MDL\\mdl_prediction_mat_toiture\\assets\n"
     ]
    },
    {
     "name": "stderr",
     "output_type": "stream",
     "text": [
      "INFO:tensorflow:Assets written to: _MDL\\mdl_prediction_mat_toiture\\assets\n"
     ]
    }
   ],
   "source": [
    "# Initialisation du modèle\n",
    "clf = ak.ImageClassifier(metrics=['accuracy'], max_trials=1, directory=os.path.join(\"_MDL\",\"mdl_prediction_mat_toiture_temp\"))\n",
    "# Entraînement\n",
    "clf.fit(X, y, validation_split=0.15, epochs=10)\n",
    "# Sauvegarde du modèle\n",
    "mdl_path = os.path.join(\"_MDL\",\"mdl_prediction_mat_toiture\")\n",
    "mdl = clf.export_model()\n",
    "mdl.save(mdl_path, save_format=\"tf\")"
   ]
  },
  {
   "cell_type": "markdown",
   "metadata": {},
   "source": [
    "#### Prédiction sur de nouvelles images"
   ]
  },
  {
   "cell_type": "markdown",
   "metadata": {},
   "source": [
    "<table align=\"top\">\n",
    "<tr style=\"vertical-align:top\"><th>img1</th><th>img2</th><th>img3</th><th>img4</th></tr>\n",
    "<tr style=\"vertical-align:top\"><td>\n",
    "<img src=\"_DATA_test/img1.png\">\n",
    "</td><td>\n",
    "<img src=\"_DATA_test/img2.png\">\n",
    "</td><td>\n",
    "<img src=\"_DATA_test/img3.png\">\n",
    "</td><td>\n",
    "<img src=\"_DATA_test/img4.png\">\n",
    "</td></tr> </table>"
   ]
  },
  {
   "cell_type": "code",
   "execution_count": 7,
   "metadata": {},
   "outputs": [
    {
     "name": "stdout",
     "output_type": "stream",
     "text": [
      "1/1 [==============================] - 0s 50ms/step\n",
      "Résultats du modèle (entraîné sur 100 000 bâtiments)\n",
      "img1.png : matériau Tuiles\n",
      "img2.png : matériau Béton\n",
      "img3.png : matériau Zinc/Aluminium/Tôle\n",
      "img4.png : matériau Tuiles\n"
     ]
    }
   ],
   "source": [
    "from tensorflow.keras.models import load_model\n",
    "\n",
    "X_TEST_NAMES = [\"img1.png\",\"img2.png\",\"img3.png\",\"img4.png\"]\n",
    "X_TEST_DIR = \"_DATA_test\"\n",
    "MDL_PATH = os.path.join(\"_MDL\",\"mdl_prediction_mat_toiture\")\n",
    "\n",
    "# Chargement des images de test\n",
    "X_test = np.stack([np.asarray(Image.open(os.path.join(X_TEST_DIR,test)).convert(\"RGB\")) for test in X_TEST_NAMES])\n",
    "\n",
    "# Chargement du modèle et prédiction\n",
    "mdl = load_model(MDL_PATH, custom_objects=ak.CUSTOM_OBJECTS)\n",
    "y_test = mdl.predict(X_test)\n",
    "\n",
    "# Rappel\n",
    "MATERIALS = {\n",
    "    1 :\"Tuiles\",\n",
    "    2 :\"Ardoises\",\n",
    "    3 :\"Zinc/Aluminium/Tôle\",\n",
    "    4 :\"Béton\"\n",
    "}\n",
    "\n",
    "print(\"Résultats du modèle (entraîné sur 100 000 bâtiments)\")\n",
    "\n",
    "# Résultats\n",
    "for name,y in zip(X_TEST_NAMES,y_test):\n",
    "    # Obtention de la catégorie correspondant au pourcentage le plus élevé (catégorie la plus \"probable\")\n",
    "    max_pred = max(y)\n",
    "    max_index = list(y).index(max_pred)\n",
    "    print(f\"{name} : matériau {MATERIALS[max_index+1]}\")"
   ]
  }
 ],
 "metadata": {
  "kernelspec": {
   "display_name": "Python 3.9.0 ('pfe')",
   "language": "python",
   "name": "python3"
  },
  "language_info": {
   "codemirror_mode": {
    "name": "ipython",
    "version": 3
   },
   "file_extension": ".py",
   "mimetype": "text/x-python",
   "name": "python",
   "nbconvert_exporter": "python",
   "pygments_lexer": "ipython3",
   "version": "3.9.0"
  },
  "orig_nbformat": 4,
  "vscode": {
   "interpreter": {
    "hash": "61d4a47994626b3b0a55d482e3f18b8c4e54cb47256d215e06dda04f9cd0fad3"
   }
  }
 },
 "nbformat": 4,
 "nbformat_minor": 2
}
